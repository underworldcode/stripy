{
 "cells": [
  {
   "cell_type": "markdown",
   "id": "7b704c6d",
   "metadata": {},
   "source": [
    "# Triangulations\n",
    "\n",
    "Some information on stripy with examples from the package"
   ]
  }
 ],
 "metadata": {
  "jupytext": {
   "text_representation": {
    "extension": ".md",
    "format_name": "myst",
    "format_version": 0.13,
    "jupytext_version": "1.10.3"
   }
  },
  "kernelspec": {
   "display_name": "Python 3 (ipykernel)",
   "language": "python",
   "name": "python3"
  },
  "source_map": [
   12
  ]
 },
 "nbformat": 4,
 "nbformat_minor": 5
}