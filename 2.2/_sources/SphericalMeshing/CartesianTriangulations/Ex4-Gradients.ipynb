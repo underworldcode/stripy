{
 "cells": [
  {
   "cell_type": "markdown",
   "id": "72bdb85c",
   "metadata": {},
   "source": [
    "## Example 4 - `stripy` gradients\n",
    "\n",
    "SRFPACK is a Fortran 77 software package that constructs a smooth interpolatory or approximating surface to data values associated with arbitrarily distributed points. It employs automatically selected tension factors to preserve shape properties of the data and avoid overshoot and undershoot associated with steep gradients.\n",
    "\n",
    "#### Notebook contents\n",
    "\n",
    "   - [Analytic function and derivatives](#Analytic-function)\n",
    "   - [Evaluating accuracy](#Derivatives-of-solution-compared-to-analytic-values)\n",
    "\n",
    "\n",
    "The next example is [Ex5-Smoothing](./Ex5-Smoothing.md)"
   ]
  },
  {
   "cell_type": "markdown",
   "id": "2f9a4e3b",
   "metadata": {},
   "source": [
    "### Define a computational mesh\n",
    "\n",
    "Use the (usual) icosahedron with face points included."
   ]
  },
  {
   "cell_type": "code",
   "execution_count": null,
   "id": "3c72009d",
   "metadata": {},
   "outputs": [],
   "source": [
    "import stripy as stripy\n",
    "\n",
    "xmin = 0.0\n",
    "xmax = 10.0\n",
    "ymin = 0.0\n",
    "ymax = 10.0\n",
    "extent = [xmin, xmax, ymin, ymax]\n",
    "\n",
    "spacingX = 0.2\n",
    "spacingY = 0.2\n",
    "\n",
    "mesh = stripy.cartesian_meshes.elliptical_mesh(extent, spacingX, spacingY, refinement_levels=3)\n",
    "mesh = stripy.Triangulation(mesh.x, mesh.y, permute=True)\n",
    "\n",
    "print(\"number of points = {}\".format(mesh.npoints))"
   ]
  },
  {
   "cell_type": "markdown",
   "id": "9320822b",
   "metadata": {},
   "source": [
    "### Analytic function \n",
    "\n",
    "Define a relatively smooth function that we can interpolate from the coarse mesh to the fine mesh and analyse"
   ]
  },
  {
   "cell_type": "code",
   "execution_count": null,
   "id": "beac7b3a",
   "metadata": {},
   "outputs": [],
   "source": [
    "import numpy as np\n",
    "\n",
    "def analytic(xs, ys, k1, k2):\n",
    "     return np.cos(k1*xs) * np.sin(k2*ys)\n",
    "\n",
    "def analytic_ddx(xs, ys, k1, k2):\n",
    "     return -k1 * np.sin(k1*xs) * np.sin(k2*ys) / np.cos(ys)\n",
    "\n",
    "def analytic_ddy(xs, ys, k1, k2):\n",
    "     return k2 * np.cos(k1*xs) * np.cos(k2*ys) \n",
    "\n",
    "analytic_sol = analytic(mesh.x, mesh.y, 0.1, 1.0)\n",
    "analytic_sol_ddx = analytic_ddx(mesh.x, mesh.y, 0.1, 1.0)\n",
    "analytic_sol_ddy = analytic_ddy(mesh.x, mesh.y, 0.1, 1.0)"
   ]
  },
  {
   "cell_type": "code",
   "execution_count": null,
   "id": "2c250ef8",
   "metadata": {},
   "outputs": [],
   "source": [
    "%matplotlib inline\n",
    "import matplotlib.pyplot as plt\n",
    "\n",
    "def axis_mesh_field(fig, ax, mesh, field, label):\n",
    "\n",
    "    ax.axis('off')\n",
    "\n",
    "    x0 = mesh.x\n",
    "    y0 = mesh.y\n",
    "    \n",
    "    trip = ax.tripcolor(x0, y0, mesh.simplices, field, cmap=plt.cm.RdBu)\n",
    "    fig.colorbar(trip, ax=ax)\n",
    "    \n",
    "    ax.set_title(str(label))\n",
    "    return\n",
    "\n",
    "    \n",
    "fig = plt.figure(figsize=(10, 8), facecolor=\"none\")\n",
    "ax = fig.add_subplot(111)\n",
    "axis_mesh_field(fig, ax, mesh, analytic_sol, \"analytic solution\")"
   ]
  },
  {
   "cell_type": "markdown",
   "id": "4efcf512",
   "metadata": {},
   "source": [
    "### Derivatives of solution compared to analytic values\n",
    "\n",
    "The `gradient` method of `Triangulation` takes a data array f representing values on the mesh vertices and returns the x,y derivatives.\n",
    "\n",
    "``` python\n",
    "Triangulation.gradient(f, nit=3, tol=0.001)\n",
    "\n",
    "```\n",
    "\n",
    "Derivatives of higher accuracy can be obtained by tweaking `tol`, which controls the convergence tolerance, or `nit` which controls the number of iterations to a solution. The default values are set to an optimal trade-off between speed and accuracy."
   ]
  },
  {
   "cell_type": "code",
   "execution_count": null,
   "id": "9068d43e",
   "metadata": {},
   "outputs": [],
   "source": [
    "stripy_ddx, stripy_ddy = mesh.gradient(analytic_sol)\n",
    "stripy_d2x, _ = mesh.gradient(stripy_ddx)\n",
    "_, stripy_d2y = mesh.gradient(stripy_ddy)"
   ]
  },
  {
   "cell_type": "code",
   "execution_count": null,
   "id": "7fde159d",
   "metadata": {},
   "outputs": [],
   "source": [
    "fig, ax = plt.subplots(3,2, figsize=(12, 15), facecolor=\"none\")\n",
    "\n",
    "axis_mesh_field(fig, ax[0,0], mesh, analytic_sol, label=\"original\")\n",
    "axis_mesh_field(fig, ax[1,0], mesh, stripy_ddx, label=\"ddy\")\n",
    "axis_mesh_field(fig, ax[1,1], mesh, stripy_ddy, label=\"ddx\")\n",
    "axis_mesh_field(fig, ax[2,0], mesh, stripy_d2x, label=\"d2x\")\n",
    "axis_mesh_field(fig, ax[2,1], mesh, stripy_d2y, label=\"d2y\")\n",
    "\n",
    "ax[0,1].axis('off')\n",
    "\n",
    "plt.show()"
   ]
  },
  {
   "cell_type": "code",
   "execution_count": null,
   "id": "bf240dfc",
   "metadata": {},
   "outputs": [],
   "source": [
    "from stripy import _srfpack\n",
    "def second_gradient_local(self, f, index):\n",
    "    \"\"\"\n",
    "    Return the gradient / 2nd partials of an n-dimensional array.\n",
    "\n",
    "    The method consists of minimizing a quadratic functional Q(G) over\n",
    "    gradient vectors (in x and y directions), where Q is an approximation\n",
    "    to the linearized curvature over the triangulation of a C-1 bivariate\n",
    "    function \\\\(F(x,y)\\\\) which interpolates the nodal values and gradients.\n",
    "\n",
    "    Args:\n",
    "        f : array of floats, shape (n,)\n",
    "            field over which to evaluate the gradient\n",
    "        nit : int (default: 3)\n",
    "            number of iterations to reach a convergence tolerance,\n",
    "            tol nit >= 1\n",
    "        tol: float (default: 1e-3)\n",
    "            maximum change in gradient between iterations.\n",
    "            convergence is reached when this condition is met.\n",
    "\n",
    "    Returns:\n",
    "        dfdx : array of floats, shape (n,)\n",
    "            derivative of f in the x direction\n",
    "        dfdy : array of floats, shape (n,)\n",
    "            derivative of f in the y direction\n",
    "\n",
    "    Notes:\n",
    "        For SIGMA = 0, optimal efficiency was achieved in testing with\n",
    "        tol = 0, and nit = 3 or 4.\n",
    "\n",
    "        The restriction of F to an arc of the triangulation is taken to be\n",
    "        the Hermite interpolatory tension spline defined by the data values\n",
    "        and tangential gradient components at the endpoints of the arc, and\n",
    "        Q is the sum over the triangulation arcs, excluding interior\n",
    "        constraint arcs, of the linearized curvatures of F along the arcs --\n",
    "        the integrals over the arcs of \\\\( (d^2 F / dT^2)^2\\\\), where \\\\( d^2 F / dT^2\\\\)is the second\n",
    "        derivative of \\\\(F\\\\) with respect to distance \\\\(T\\\\) along the arc.\n",
    "    \"\"\"\n",
    "\n",
    "    if f.size != self.npoints:\n",
    "        raise ValueError('f should be the same size as mesh')\n",
    "\n",
    "    sigma = self.sigma\n",
    "    iflgs = self.iflgs\n",
    "\n",
    "    f = self._shuffle_field(f)\n",
    "    index = self._shuffle_simplices(index)\n",
    "\n",
    "    ## wrapping: \n",
    "\n",
    "    # subroutine gradc(k,ncc,lcc,n,x,y,z,list,lptr,lend,dx,dy,dxx,dxy,dyy,ier) ! in :_srfpack:srfpack.f\n",
    "    # subroutine gradg(  ncc,lcc,n,x,y,z,list,lptr,lend,iflgs,sigma,nit,dgmax,grad,ier) ! in :_srfpack:srfpack.f\n",
    "\n",
    "    dx, dy, dxx, dxy, dyy, ierr = _srfpack.gradcs(index+1, self._x, self._y, f, self.lst, self.lptr, self.lend)\n",
    "\n",
    "    if ierr < 0:\n",
    "        raise ValueError('ierr={} in gradc\\n{}'.format(ierr, _ier_codes[ierr]))\n",
    "\n",
    "    return dx, dy, dxx, dxy, dyy\n"
   ]
  },
  {
   "cell_type": "code",
   "execution_count": null,
   "id": "11050840",
   "metadata": {},
   "outputs": [],
   "source": [
    "def gradient_local(self, f, index):\n",
    "    \"\"\"\n",
    "    Return the gradient at a specified node.\n",
    "\n",
    "    This routine employs a local method, in which values depend only on nearby\n",
    "    data points, to compute an estimated gradient at a node.\n",
    "\n",
    "    `gradient_local()` is more efficient than `gradient()` only if it is unnecessary\n",
    "    to compute gradients at all of the nodes. Both routines have similar accuracy.\n",
    "    \"\"\"\n",
    "    if f.size != self.npoints:\n",
    "        raise ValueError('f should be the same size as mesh')\n",
    "\n",
    "    f = self._shuffle_field(f)\n",
    "    index = self._shuffle_simplices(index)\n",
    "\n",
    "    gradX, gradY, l = _srfpack.gradls(index + 1, self._x, self._y, f,\\\n",
    "                                     self.lst, self.lptr, self.lend)\n",
    "\n",
    "    return gradX, gradY"
   ]
  },
  {
   "cell_type": "code",
   "execution_count": null,
   "id": "013f2f16",
   "metadata": {},
   "outputs": [],
   "source": [
    "indices = np.arange(0, mesh.npoints)\n",
    "\n",
    "dx, dy = gradient_local(mesh, analytic_sol, indices)"
   ]
  },
  {
   "cell_type": "code",
   "execution_count": null,
   "id": "7c701449",
   "metadata": {},
   "outputs": [],
   "source": [
    "stripy_ddy.shape, dx.shape"
   ]
  },
  {
   "cell_type": "code",
   "execution_count": null,
   "id": "8308f5e1",
   "metadata": {},
   "outputs": [],
   "source": [
    "fig, ax = plt.subplots(3,2, figsize=(12, 15), facecolor=\"none\")\n",
    "\n",
    "axis_mesh_field(fig, ax[0,0], mesh, analytic_sol, label=\"original\")\n",
    "axis_mesh_field(fig, ax[1,0], mesh, dx, label=\"ddx\")\n",
    "axis_mesh_field(fig, ax[1,1], mesh, dy, label=\"ddy\")\n",
    "axis_mesh_field(fig, ax[2,0], mesh, stripy_ddx, label=\"d2x\")\n",
    "axis_mesh_field(fig, ax[2,1], mesh, stripy_ddy, label=\"d2y\")\n",
    "\n",
    "ax[0,1].axis('off')"
   ]
  },
  {
   "cell_type": "code",
   "execution_count": null,
   "id": "5ad696b8",
   "metadata": {},
   "outputs": [],
   "source": [
    "indices = np.arange(0, mesh.npoints)\n",
    "dx, dy, dxx, dxy, dyy = second_gradient_local(mesh, analytic_sol, indices)"
   ]
  },
  {
   "cell_type": "code",
   "execution_count": null,
   "id": "7c7edf2c",
   "metadata": {},
   "outputs": [],
   "source": [
    "d2x = np.zeros_like(stripy_d2x)\n",
    "d2y = np.zeros_like(stripy_d2y)\n",
    "d1x = np.zeros_like(stripy_d2y)\n",
    "d1y = np.zeros_like(stripy_d2y)\n",
    "for index in range(0, mesh.npoints):\n",
    "    dx, dy, dxx, dxy, dyy = second_gradient_local(mesh, analytic_sol, index)\n",
    "    d2x[index] = dxx\n",
    "    d2y[index] = dyy\n",
    "    d1x[index] = dx\n",
    "    d1y[index] = dy"
   ]
  },
  {
   "cell_type": "code",
   "execution_count": null,
   "id": "7ca7eb25",
   "metadata": {},
   "outputs": [],
   "source": [
    "fig, ax = plt.subplots(3,2, figsize=(12, 15), facecolor=\"none\")\n",
    "\n",
    "axis_mesh_field(fig, ax[0,0], mesh, analytic_sol, label=\"original\")\n",
    "axis_mesh_field(fig, ax[1,0], mesh, d1x, label=\"ddy\")\n",
    "axis_mesh_field(fig, ax[1,1], mesh, d1y, label=\"ddx\")\n",
    "axis_mesh_field(fig, ax[2,0], mesh, d2x, label=\"d2x\")\n",
    "axis_mesh_field(fig, ax[2,1], mesh, d2y, label=\"d2y\")\n",
    "\n",
    "ax[0,1].axis('off')\n",
    "\n",
    "plt.show()"
   ]
  },
  {
   "cell_type": "markdown",
   "id": "d54df6d2",
   "metadata": {},
   "source": [
    "The next example is [Ex5-Smoothing](./Ex5-Smoothing.md)"
   ]
  },
  {
   "cell_type": "code",
   "execution_count": null,
   "id": "3572fe09",
   "metadata": {},
   "outputs": [],
   "source": [
    "dsdx, dsdy = mesh.gradient(analytic_sol)\n",
    "print(dsdx[0], dsdy[0])\n",
    "\n",
    "s, (dsdx, dsdy), err = mesh.smoothing(analytic_sol, np.ones_like(analytic_sol), 10.0, 0.8, 0.00001)\n",
    "print(dsdx[0], dsdy[0])"
   ]
  },
  {
   "cell_type": "code",
   "execution_count": null,
   "id": "02103e16",
   "metadata": {},
   "outputs": [],
   "source": [
    "fig, ax = plt.subplots(3,2, figsize=(12, 15), facecolor=\"none\")\n",
    "\n",
    "axis_mesh_field(fig, ax[0,0], mesh, analytic_sol, label=\"original\")\n",
    "axis_mesh_field(fig, ax[1,0], mesh, dsdx, label=\"ddy\")\n",
    "axis_mesh_field(fig, ax[1,1], mesh, dsdy, label=\"ddx\")\n",
    "axis_mesh_field(fig, ax[2,0], mesh, dsdx-analytic_sol_ddx, label=\"ddx_err\")\n",
    "axis_mesh_field(fig, ax[2,1], mesh, dsdy-analytic_sol_ddy, label=\"ddy_err\")\n",
    "\n",
    "ax[0,1].axis('off')\n",
    "\n",
    "plt.show()"
   ]
  },
  {
   "cell_type": "markdown",
   "id": "1a18b731",
   "metadata": {},
   "source": [
    "The next notebook is [Ex5-Smoothing](./Ex5-Smoothing.ipynb)"
   ]
  },
  {
   "cell_type": "code",
   "execution_count": null,
   "id": "e87919ab-aa1a-4217-89b1-8123c19d8674",
   "metadata": {},
   "outputs": [],
   "source": []
  }
 ],
 "metadata": {
  "kernelspec": {
   "display_name": "Python 3 (ipykernel)",
   "language": "python",
   "name": "python3"
  },
  "language_info": {
   "codemirror_mode": {
    "name": "ipython",
    "version": 3
   },
   "file_extension": ".py",
   "mimetype": "text/x-python",
   "name": "python",
   "nbconvert_exporter": "python",
   "pygments_lexer": "ipython3",
   "version": "3.8.12"
  }
 },
 "nbformat": 4,
 "nbformat_minor": 5
}
