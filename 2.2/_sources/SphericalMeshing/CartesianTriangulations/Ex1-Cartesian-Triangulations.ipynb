{
 "cells": [
  {
   "cell_type": "markdown",
   "id": "50734cbf",
   "metadata": {},
   "source": [
    "# Example 1 - Triangulation of arbitrary points\n",
    "\n",
    "`stripy` provides a python interfact to TRIPACK and SRFPACK (Renka 1997c,d) as a triangulation class that would typically be used as follows:\n",
    "\n",
    "``` python\n",
    "\n",
    "import stripy\n",
    "triangulation = stripy.Triangulation(x=vertices_x, y=vertices_y)\n",
    "areas = triangulation.areas()\n",
    "```\n",
    "\n",
    "The methods of the `Triangulation` class include interpolation, smoothing and gradients (from SRFPACK), triangle areas, point location by simplex and nearest vertex, refinement operations by edge or centroid, and neighbourhood search / distance computations through a k-d tree algorithm suited to points on the surface of a unit sphere. `stripy` also includes template triangulated meshes with refinement operations.\n",
    "\n",
    "In this notebook we introduce the `Triangulation` class itself.\n",
    "\n",
    "## Notebook contents\n",
    "\n",
    "   - [Square mesh](#Triangulate-the-vertices-of-a-square-mesh)\n",
    "   - [Plotting on a map](#Making-a-plot-of-the-triangulation)\n",
    "   - [2D visualisation](#Lavavu-to-view-spherical-information)\n",
    "   - [Predefined meshes](#Predefined-meshes)\n",
    "\n",
    "## References\n",
    " \n",
    "   1. Renka, R. J. (1997), Algorithm 772: STRIPACK: Delaunay triangulation and Voronoi diagram on the surface of a sphere, ACM Transactions on Mathematical Software (TOMS).\n",
    "   \n",
    "   2. Renka, R. J. (1997), Algorithm 773: SSRFPACK: interpolation of scattered data on the surface of a sphere with a surface under tension, ACM Transactions on Mathematical Software (TOMS), 23(3), 435–442, doi:10.1145/275323.275330.\n",
    "   \n",
    "   3. Renka, R. J. (1996), Algorithm 751; TRIPACK: a constrained two-dimensional Delaunay triangulation package, ACM Transactions on Mathematical Software, 22(1), 1–8, doi:10.1145/225545.225546.\n",
    "   \n",
    "   4. Renka, R. J. (1996), Algorithm 752; SRFPACK: software for scattered data fitting with a constrained surface under tension, ACM Transactions on Mathematical Software, 22(1), 9–17, doi:10.1145/225545.225547.\n",
    "\n",
    "\n",
    "The next example is [Ex2-SphericalGrids](./Ex2-SphericalGrids.md)"
   ]
  },
  {
   "cell_type": "markdown",
   "id": "5d48f1a5",
   "metadata": {},
   "source": [
    "## Triangulate the vertices of a square mesh"
   ]
  },
  {
   "cell_type": "code",
   "execution_count": null,
   "id": "2d822219",
   "metadata": {},
   "outputs": [],
   "source": [
    "import stripy as stripy\n",
    "import numpy as np\n",
    "\n",
    "# Vertices of a square mesh\n",
    "\n",
    "vertices_xy = np.array([[0.0,   0.0],\n",
    "                        [1.0,   0.0],\n",
    "                        [0.0,   1.0],\n",
    "                        [1.0,   1.0]])\n",
    "\n",
    "\n",
    "vertices_x = vertices_xy.T[0]\n",
    "vertices_y = vertices_xy.T[1]\n",
    "\n",
    "\n",
    "triangulation = stripy.Triangulation(x=vertices_x, y=vertices_y, permute=False)"
   ]
  },
  {
   "cell_type": "code",
   "execution_count": null,
   "id": "3f2dd730",
   "metadata": {},
   "outputs": [],
   "source": [
    "print(triangulation.areas())\n",
    "print(triangulation.npoints)"
   ]
  },
  {
   "cell_type": "markdown",
   "id": "8623ff9a",
   "metadata": {},
   "source": [
    "This creates a triangulation object constructed using the wrapped fortran code of Renka (1997). The triangulation object has a number of \n",
    "useful methods and attached data which can be listed with\n",
    "\n",
    "``` python\n",
    "\n",
    "help(triangulation)\n",
    "```"
   ]
  },
  {
   "cell_type": "code",
   "execution_count": null,
   "id": "187511b0",
   "metadata": {},
   "outputs": [],
   "source": [
    "refined_triangulation = stripy.Triangulation(x=vertices_x, y=vertices_y, refinement_levels=4, permute=False)\n",
    "\n",
    "print(refined_triangulation.npoints)"
   ]
  },
  {
   "cell_type": "markdown",
   "id": "0beda30b",
   "metadata": {},
   "source": [
    "## Making a plot of the triangulation\n",
    "\n",
    "We can make a plot of the two grids and the most straightforward way to display the information\n",
    "is through a standard map projection of the sphere to the plane. \n",
    "\n",
    "(Here we superimpose the points on a global map of coastlines using the `cartopy` map library and use the Mollweide projection. \n",
    " Other projections to try include `Robinson`, `Orthographic`, `PlateCarree`)"
   ]
  },
  {
   "cell_type": "code",
   "execution_count": null,
   "id": "0e241709",
   "metadata": {},
   "outputs": [],
   "source": [
    "%matplotlib inline\n",
    "\n",
    "import matplotlib.pyplot as plt\n",
    "\n",
    "\n",
    "fig, (ax1, ax2) = plt.subplots(1,2, figsize=(20, 10), facecolor=\"none\", sharey=True)\n",
    "\n",
    "\n",
    "## Plot the vertices and the edges for the original mesh\n",
    "x = triangulation.x\n",
    "y = triangulation.y\n",
    "simplices = triangulation.simplices\n",
    "\n",
    "ax1.triplot(x, y, simplices, linewidth=0.5, color='black')\n",
    "ax1.scatter(x, y, color='Red', alpha=0.5, marker='o')\n",
    "\n",
    "\n",
    "## Plot the vertices and the edges for the refined mesh\n",
    "x = refined_triangulation.x\n",
    "y = refined_triangulation.y\n",
    "simplices = refined_triangulation.simplices\n",
    "\n",
    "ax2.triplot(x, y, simplices, linewidth=0.5, color='black')\n",
    "ax2.scatter(x, y, color='Red', alpha=0.5, marker='o')\n",
    "\n",
    "plt.show()"
   ]
  },
  {
   "cell_type": "markdown",
   "id": "c5dd088a",
   "metadata": {},
   "source": [
    "## Predefined meshes\n",
    "\n",
    "One common use of `stripy` is in meshing x,y coordinates and, to this end, we provide pre-defined meshes for square and elliptical triangulations. A random mesh is included as a counterpoint to the regular meshes. The square mesh defined above can be created directly using:\n",
    "\n",
    "``` python\n",
    "\n",
    "triangulation         = stripy.cartesian_meshes.square_mesh(extent, spacingX, spacingY, refinement_levels=0)\n",
    "refined_triangulation = stripy.cartesian_meshes.square_mesh(extent, spacingX, spacingY, refinement_levels=3)\n",
    "```\n",
    "\n",
    "This capability is shown in a companion notebook [Ex2-CartesianGrids](./Ex2-CartesianGrids.ipynb)"
   ]
  },
  {
   "cell_type": "code",
   "execution_count": null,
   "id": "812848b6-c96c-4c2d-b14c-db3f178450ff",
   "metadata": {},
   "outputs": [],
   "source": []
  }
 ],
 "metadata": {
  "kernelspec": {
   "display_name": "Python 3 (ipykernel)",
   "language": "python",
   "name": "python3"
  },
  "language_info": {
   "codemirror_mode": {
    "name": "ipython",
    "version": 3
   },
   "file_extension": ".py",
   "mimetype": "text/x-python",
   "name": "python",
   "nbconvert_exporter": "python",
   "pygments_lexer": "ipython3",
   "version": "3.8.12"
  }
 },
 "nbformat": 4,
 "nbformat_minor": 5
}
