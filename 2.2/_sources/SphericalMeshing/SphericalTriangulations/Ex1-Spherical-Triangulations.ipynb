{
 "cells": [
  {
   "cell_type": "markdown",
   "id": "d9bbbb2c",
   "metadata": {},
   "source": [
    "# Example 1 - Triangulation of arbitrary points on the sphere\n",
    "\n",
    "`stripy` provides a python interfact to STRIPACK and SSRFPACK (Renka 1997a,b) as a triangulation class that would typically be used as follows:\n",
    "\n",
    "``` python\n",
    "\n",
    "import stripy as stripy\n",
    "spherical_triangulation = stripy.sTriangulation(lons=vertices_lon_as_radians, lats=vertices_lat_as_radians)\n",
    "s_areas = spherical_triangulation.areas()\n",
    "```\n",
    "\n",
    "The methods of the `sTriangulation` class include interpolation, smoothing and gradients (from SSRFPACK), triangle areas, point location by simplex and nearest vertex, refinement operations by edge or centroid, and neighbourhood search / distance computations through a k-d tree algorithm suited to points on the surface of a unit sphere. `stripy` also includes template triangulated meshes with refinement operations.\n",
    "\n",
    "In this notebook we introduce the `sTriangulation` class itself.\n",
    "\n",
    "## Notebook contents\n",
    "\n",
    "   - [Icosahedron](#Triangulate-the-vertices-of-an-icosahedron)\n",
    "   - [Plotting on a map](#Making-a-plot-of-the-triangulation)\n",
    "   - [3D visualisation](#Lavavu-to-view-spherical-information)\n",
    "   - [Predefined meshes](#Predefined-meshes)\n",
    "\n",
    "## References\n",
    "\n",
    "\n",
    "\n",
    " \n",
    "   1. Renka, R. J. (1997), Algorithm 772: STRIPACK: Delaunay triangulation and Voronoi diagram on the surface of a sphere, ACM Transactions on Mathematical Software (TOMS).\n",
    "   \n",
    "   2. Renka, R. J. (1997), Algorithm 773: SSRFPACK: interpolation of scattered data on the surface of a sphere with a surface under tension, ACM Transactions on Mathematical Software (TOMS), 23(3), 435–442, doi:10.1145/275323.275330.\n",
    "   \n",
    "   3. Renka, R. J. (1996), Algorithm 751; TRIPACK: a constrained two-dimensional Delaunay triangulation package, ACM Transactions on Mathematical Software, 22(1), 1–8, doi:10.1145/225545.225546.\n",
    "   \n",
    "   4. Renka, R. J. (1996), Algorithm 752; SRFPACK: software for scattered data fitting with a constrained surface under tension, ACM Transactions on Mathematical Software, 22(1), 9–17, doi:10.1145/225545.225547.\n",
    "\n",
    "\n",
    "The next example is [Ex2-SphericalGrids](./Ex2-SphericalGrids.md)"
   ]
  },
  {
   "cell_type": "markdown",
   "id": "3bc6dff8",
   "metadata": {},
   "source": [
    "## Triangulate the vertices of an icosahedron"
   ]
  },
  {
   "cell_type": "code",
   "execution_count": null,
   "id": "b530d2fd",
   "metadata": {},
   "outputs": [],
   "source": [
    "import stripy as stripy\n",
    "import numpy as np\n",
    "\n",
    "# Vertices of an icosahedron as Lat / Lon in degrees\n",
    "\n",
    "vertices_LatLonDeg = np.array(\n",
    "                               [[ 90,         0.0 ],\n",
    "                                [ 26.57,      0.0 ],\n",
    "                                [-26.57,     36.0 ],\n",
    "                                [ 26.57,     72.0 ],\n",
    "                                [-26.57,    108.0 ],\n",
    "                                [ 26.57,    144.0 ],\n",
    "                                [-26.57,    180.0 ],\n",
    "                                [ 26.57,    360.0-72.0 ],\n",
    "                                [-26.57,    360.0-36.0 ],\n",
    "                                [ 26.57,    360.0-144.0 ],\n",
    "                                [-26.57,    360.0-108.0 ],\n",
    "                                [-90,         0.0 ]])\n",
    "\n",
    "\n",
    "vertices_lat = np.radians(vertices_LatLonDeg.T[0])\n",
    "vertices_lon = np.radians(vertices_LatLonDeg.T[1])\n",
    "\n",
    "spherical_triangulation = stripy.sTriangulation(lons=vertices_lon, lats=vertices_lat)"
   ]
  },
  {
   "cell_type": "markdown",
   "id": "77b8f3fe",
   "metadata": {},
   "source": [
    "This creates a triangulation object constructed using the wrapped fortran code of Renka (1997). The triangulation object has a number of \n",
    "useful methods and attached data which can be listed with\n",
    "\n",
    "``` python\n",
    "\n",
    "help(spherical_triangulation)\n",
    "```"
   ]
  },
  {
   "cell_type": "code",
   "execution_count": null,
   "id": "a8645dc3",
   "metadata": {},
   "outputs": [],
   "source": [
    "print(spherical_triangulation.areas())\n",
    "print(spherical_triangulation.npoints)"
   ]
  },
  {
   "cell_type": "code",
   "execution_count": null,
   "id": "53b0f167",
   "metadata": {},
   "outputs": [],
   "source": [
    "refined_spherical_triangulation = stripy.sTriangulation(lons=vertices_lon, lats=vertices_lat, refinement_levels=2)\n",
    "\n",
    "print(refined_spherical_triangulation.npoints)"
   ]
  },
  {
   "cell_type": "markdown",
   "id": "132b5ebf",
   "metadata": {},
   "source": [
    "## Making a plot of the triangulation\n",
    "\n",
    "We can make a plot of the two grids and the most straightforward way to display the information\n",
    "is through a standard map projection of the sphere to the plane. \n",
    "\n",
    "(Here we superimpose the points on a global map of coastlines using the `cartopy` map library and use the Mollweide projection. \n",
    " Other projections to try include `Robinson`, `Orthographic`, `PlateCarree`)"
   ]
  },
  {
   "cell_type": "code",
   "execution_count": null,
   "id": "49f779b2",
   "metadata": {},
   "outputs": [],
   "source": [
    "%matplotlib inline\n",
    "\n",
    "import cartopy\n",
    "import cartopy.crs as ccrs\n",
    "import matplotlib.pyplot as plt\n",
    "\n",
    "\n",
    "fig = plt.figure(figsize=(20, 10), facecolor=\"none\")\n",
    "    \n",
    "ax  = plt.subplot(121, projection=ccrs.Mollweide(central_longitude=0.0, globe=None))\n",
    "ax.coastlines(color=\"#777777\")\n",
    "ax.set_global()\n",
    "\n",
    "ax2 = plt.subplot(122, projection=ccrs.Mollweide(central_longitude=0.0,  globe=None))\n",
    "ax2.coastlines(color=\"#777777\")\n",
    "ax2.set_global()\n",
    "\n",
    "## Plot the vertices and the edges for the original isocahedron\n",
    "\n",
    "lons = np.degrees(spherical_triangulation.lons)\n",
    "lats = np.degrees(spherical_triangulation.lats)\n",
    "\n",
    "ax.scatter(lons, lats, color=\"Red\",\n",
    "                 marker=\"o\", s=150.0, transform=ccrs.PlateCarree())\n",
    "\n",
    "segs = spherical_triangulation.identify_segments()\n",
    "\n",
    "for s1, s2 in segs:\n",
    "    ax.plot( [lons[s1], lons[s2]],\n",
    "             [lats[s1], lats[s2]], \n",
    "              linewidth=0.5, color=\"black\", transform=ccrs.Geodetic())\n",
    "\n",
    "\n",
    "## Plot the vertices and the edges for the refined isocahedron\n",
    "\n",
    "lons = np.degrees(refined_spherical_triangulation.lons)\n",
    "lats = np.degrees(refined_spherical_triangulation.lats)\n",
    "\n",
    "ax2.scatter(lons, lats, color=\"Red\", alpha=0.5,\n",
    "                 marker=\"o\", s=50.0, transform=ccrs.PlateCarree())\n",
    "\n",
    "\n",
    "segs = refined_spherical_triangulation.identify_segments()\n",
    "\n",
    "for s1, s2 in segs:\n",
    "    ax2.plot( [lons[s1], lons[s2]],\n",
    "              [lats[s1], lats[s2]], \n",
    "              linewidth=0.5, color=\"black\", transform=ccrs.Geodetic())\n",
    "    \n",
    "fig.savefig(\"icosohedron_map.png\", dpi=150)"
   ]
  },
  {
   "cell_type": "markdown",
   "id": "fa52b47e",
   "metadata": {},
   "source": [
    "### `Lavavu` to view spherical information\n",
    "\n",
    "We can view the same triangulation in an interactive form using the `lavavu` package (`pip install lavavu`). \n",
    "The list of simplices of the triangulation (`spherical_triangulation.simplices`) is compatible with the format expected by Lavavu."
   ]
  },
  {
   "cell_type": "code",
   "execution_count": null,
   "id": "25d38caf",
   "metadata": {},
   "outputs": [],
   "source": [
    "import k3d\n",
    "plot = k3d.plot(camera_auto_fit=False, grid_visible=False, \n",
    "                menu_visibility=False, axes_helper=False )\n",
    "\n",
    "indices = refined_spherical_triangulation.simplices.astype(np.uint32)\n",
    "points  = np.column_stack(refined_spherical_triangulation.points.T).astype(np.float32)\n",
    "pcoarse = np.column_stack(spherical_triangulation.points.T).astype(np.float32)\n",
    "\n",
    "plot   += k3d.mesh(points, indices, wireframe=False, color=0x8888FF,\n",
    "                   flat_shading=True, opacity=0.5  )\n",
    "\n",
    "plot   += k3d.mesh(points, indices, wireframe=True, color=0x3333BB,\n",
    "                   flat_shading=True, opacity=1.0  )\n",
    "\n",
    "## This helps to manage the wireframe / transparency\n",
    "plot   += k3d.mesh(points*0.98, indices, wireframe=False, \n",
    "                   color=0xBBBBBB, opacity=1.0, flat_shading=False  )\n",
    "\n",
    "\n",
    "plot   += k3d.points(points, point_size=0.025, color=0xFF0000)\n",
    "\n",
    "plot   += k3d.points(pcoarse, point_size=0.04, color=0x00FF00)\n",
    "\n",
    "plot.display()"
   ]
  },
  {
   "cell_type": "code",
   "execution_count": null,
   "id": "f4dc3b91",
   "metadata": {},
   "outputs": [],
   "source": [
    "## Save this model as an interactive html file\n",
    "\n",
    "html = plot.get_snapshot()\n",
    "with open('icosohedron_example.html','w') as fp:\n",
    "    fp.write(html)"
   ]
  },
  {
   "cell_type": "markdown",
   "id": "9897de6e",
   "metadata": {},
   "source": [
    "## Predefined meshes\n",
    "\n",
    "One common use of `stripy` is in meshing the sphere and, to this end, we provide pre-defined meshes for icosahedral and octahedral triangulations, each of which can have mid-face centroid points included. A triangulation of the six cube-vertices is also provided as well as a 'buckyball' mesh. The icosahedral meshes defined above can be created directly using:\n",
    "\n",
    "``` python\n",
    "\n",
    "spherical_triangulation         = stripy.spherical_meshes.icosahedral_mesh(refinement_levels=0)\n",
    "refined_spherical_triangulation = stripy.spherical_meshes.icosahedral_mesh(refinement_levels=3)\n",
    "```\n",
    "\n",
    "This capability is shown in a companion notebook [Ex2-SphericalGrids](./Ex2-SphericalGrids.ipynb)"
   ]
  },
  {
   "cell_type": "code",
   "execution_count": null,
   "id": "294a39f0-95d1-448c-91c5-0e27140ec3e9",
   "metadata": {},
   "outputs": [],
   "source": []
  }
 ],
 "metadata": {
  "kernelspec": {
   "display_name": "Python 3 (ipykernel)",
   "language": "python",
   "name": "python3"
  },
  "language_info": {
   "codemirror_mode": {
    "name": "ipython",
    "version": 3
   },
   "file_extension": ".py",
   "mimetype": "text/x-python",
   "name": "python",
   "nbconvert_exporter": "python",
   "pygments_lexer": "ipython3",
   "version": "3.8.12"
  }
 },
 "nbformat": 4,
 "nbformat_minor": 5
}
