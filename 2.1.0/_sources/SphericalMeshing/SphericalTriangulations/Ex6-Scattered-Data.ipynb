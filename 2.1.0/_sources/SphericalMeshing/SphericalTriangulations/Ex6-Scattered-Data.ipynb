{
 "cells": [
  {
   "cell_type": "markdown",
   "id": "abda31c4",
   "metadata": {},
   "source": [
    "# Example 6 - Scattered Data and 'Heat Maps'\n",
    "\n",
    "There are different ways to map point data to a smooth field. One way is to triangulate the data, smooth it and interpolate to a regular mesh (see previous notebooks). It is also possible to construct weighted averages from scattered points to a regular mesh. In this notebook we work through how to find where points lie in the mesh and map their values to nearby vertices. \n",
    "\n",
    "## Notebook contents\n",
    "\n",
    "   - [Computational mesh](#Define-a-regular-computational-mesh)\n",
    "   - [Scattered data](#Point-data-with-uneven-spatial-distribution)\n",
    "   - [Data count by triangle](#Count-earthquakes-per-triangle)\n",
    "   - [Data count by nearest vertex](#Count-earthquakes-per-vertex)\n",
    "   - [Distance weighting to vertices](#Inverse-distance-weighted-number-of-earthquakes)\n",
    "   - [Visualisation](#Visualisation)\n",
    "   \n",
    "   \n",
    "The next example is [Ex7-Refinement-of-Triangulations](./Ex7-Refinement-of-Triangulations.md)"
   ]
  },
  {
   "cell_type": "markdown",
   "id": "d843c6f4",
   "metadata": {},
   "source": [
    "## Define a regular computational mesh\n",
    "\n",
    "Use the (usual) icosahedron with face points included."
   ]
  },
  {
   "cell_type": "code",
   "execution_count": null,
   "id": "41d31cc0",
   "metadata": {},
   "outputs": [],
   "source": [
    "import stripy as stripy\n",
    "\n",
    "mesh = stripy.spherical_meshes.icosahedral_mesh(refinement_levels=5, include_face_points=True, tree=True)\n",
    "\n",
    "print(mesh.npoints)"
   ]
  },
  {
   "cell_type": "markdown",
   "id": "637cf681",
   "metadata": {},
   "source": [
    "## Point data with uneven spatial distribution\n",
    "\n",
    "Define a relatively smooth function that we can interpolate from the coarse mesh to the fine mesh and analyse. As it is a familiar pattern, we use the seismic event catalogue for M5.5+ (dawn of time to 2017-12-31) from IRIS"
   ]
  },
  {
   "cell_type": "code",
   "execution_count": null,
   "id": "85fd09c1",
   "metadata": {},
   "outputs": [],
   "source": [
    "import numpy as np\n",
    "\n",
    "# Note - these data have some places where depth is unknown (appears as NaN in the depth )\n",
    "# The IRIS data has  lat, lon, depth, mag  ... date/time in col 2, 3, 4, 10 (starting from zero)\n",
    "\n",
    "eqs = np.genfromtxt(\"../Data/EQ-M5.5-IRIS-ALL.txt\", usecols=(2,3,4,10), delimiter='|', comments=\"#\")    \n",
    "        \n",
    "\n",
    "lons = np.radians(eqs[:,1])\n",
    "lats = np.radians(eqs[:,0])\n",
    "depths = eqs[:,2]\n",
    "depths[np.isnan(depths)] = -1.0"
   ]
  },
  {
   "cell_type": "code",
   "execution_count": null,
   "id": "c758546b",
   "metadata": {},
   "outputs": [],
   "source": [
    "%matplotlib inline\n",
    "\n",
    "import cartopy\n",
    "import cartopy.crs as ccrs\n",
    "import matplotlib.pyplot as plt\n",
    "\n",
    "fig = plt.figure(figsize=(10, 5), facecolor=\"none\")\n",
    "ax  = plt.subplot(111, projection=ccrs.Mollweide())\n",
    "ax.coastlines(color=\"#777777\" )\n",
    "ax.set_global()\n",
    "\n",
    "lons0 = np.degrees(lons)\n",
    "lats0 = np.degrees(lats)\n",
    "\n",
    "ax.scatter(lons0, lats0, \n",
    "            marker=\"o\", s=10.0, alpha=0.5, \n",
    "            transform=ccrs.PlateCarree(), c=depths, cmap=plt.cm.RdBu)\n",
    "\n",
    "pass"
   ]
  },
  {
   "cell_type": "markdown",
   "id": "c015f259",
   "metadata": {},
   "source": [
    "## Count earthquakes per triangle \n",
    "\n",
    "This is a numpy wrapper around the `STRIPACK` routine which operates by retriangulation and is therefore not particularly fast."
   ]
  },
  {
   "cell_type": "code",
   "execution_count": null,
   "id": "f1bb8caa",
   "metadata": {},
   "outputs": [],
   "source": [
    "triangles = mesh.containing_triangle(lons, lats)"
   ]
  },
  {
   "cell_type": "code",
   "execution_count": null,
   "id": "f144459d",
   "metadata": {},
   "outputs": [],
   "source": [
    "## The return_counts argument is quite new in numpy and your version may not have it\n",
    "\n",
    "try:\n",
    "    tris, counts = np.unique(triangles, return_counts=True)\n",
    "except:\n",
    "\n",
    "    def unique_count(a):\n",
    "        unique, inverse = np.unique(a, return_inverse=True)\n",
    "        count = np.zeros(len(unique), np.int)\n",
    "        np.add.at(count, inverse, 1)\n",
    "        return unique, count\n",
    "\n",
    "    tris, counts = unique_count(triangles)"
   ]
  },
  {
   "cell_type": "code",
   "execution_count": null,
   "id": "85b1514e",
   "metadata": {},
   "outputs": [],
   "source": [
    "tris.shape"
   ]
  },
  {
   "cell_type": "code",
   "execution_count": null,
   "id": "ada112c2",
   "metadata": {},
   "outputs": [],
   "source": [
    "## map to nodes so we can plot this\n",
    "\n",
    "hit_count = np.zeros_like(mesh.lons)\n",
    "\n",
    "for i in range(0, tris.shape[0]):\n",
    "    hit_count[mesh.simplices[tris[i]]] += counts[i]\n",
    "\n",
    "hit_count /= 3.0\n",
    "\n",
    "print(hit_count.mean())"
   ]
  },
  {
   "cell_type": "code",
   "execution_count": null,
   "id": "78695bd7",
   "metadata": {},
   "outputs": [],
   "source": [
    "fig = plt.figure(figsize=(10, 10), facecolor=\"none\")\n",
    "ax  = plt.subplot(111, projection=ccrs.Mollweide())\n",
    "ax.coastlines(color=\"lightgrey\", )\n",
    "ax.set_global()\n",
    "\n",
    "lons0 = np.degrees(mesh.lons)\n",
    "lats0 = np.degrees(mesh.lats)\n",
    "\n",
    "ax.scatter(lons0, lats0, \n",
    "            marker=\"o\", s=30.0, transform=ccrs.PlateCarree(), c=hit_count, cmap=plt.cm.Reds, vmin=0.333, vmax=20.0, alpha=0.25)\n",
    "\n",
    "pass"
   ]
  },
  {
   "cell_type": "markdown",
   "id": "ce44a1da",
   "metadata": {},
   "source": [
    "## Count earthquakes per vertex\n",
    "\n",
    "The `sTriangulation.nearest_vertices` method uses a k-d tree to find the nearest vertices to a set of longitude / latitude points. It returns the great circle distance. This requires the k-d tree to have been built when the mesh was initialised (`tree=True`)"
   ]
  },
  {
   "cell_type": "code",
   "execution_count": null,
   "id": "1937950b",
   "metadata": {},
   "outputs": [],
   "source": [
    "distances, vertices = mesh.nearest_vertices(lons, lats, k=1)\n",
    "nodes, ncounts = np.unique(vertices, return_counts=True)\n",
    "\n",
    "hit_countn = np.zeros_like(mesh.lons)\n",
    "hit_countn[nodes] = ncounts"
   ]
  },
  {
   "cell_type": "code",
   "execution_count": null,
   "id": "b62620fb",
   "metadata": {},
   "outputs": [],
   "source": [
    "fig = plt.figure(figsize=(10, 10), facecolor=\"none\")\n",
    "ax  = plt.subplot(111, projection=ccrs.Mollweide())\n",
    "ax.coastlines(color=\"lightgrey\", )\n",
    "ax.set_global()\n",
    "\n",
    "lons0 = np.degrees(mesh.lons)\n",
    "lats0 = np.degrees(mesh.lats)\n",
    "\n",
    "ax.scatter(lons0, lats0, \n",
    "            marker=\"o\", s=30.0, transform=ccrs.PlateCarree(), c=hit_countn, cmap=plt.cm.Reds, vmin=0.333, vmax=10.0, alpha=0.25)\n",
    "\n",
    "pass"
   ]
  },
  {
   "cell_type": "markdown",
   "id": "4ef10d8a",
   "metadata": {},
   "source": [
    "## Inverse distance weighted number of earthquakes\n",
    "\n",
    "The k-d tree method provides a specified number of neighbours and the arc lengths to those neighbours. This can be used in a number of ways to smooth or amalgamate data. Here for example is a weighted average of each earthquake to nearby nodes. \n",
    "\n",
    "We compute the distances to $N$ nearby vertices and distribute information to those vertices in inverse proportion to their distance.\n",
    "\n",
    "$$ w _i = \\frac{d _i}{\\sum_{i=1}^N d _i} $$\n",
    "\n",
    "Alternatively, we might map information to the vertices by applying a radially symmetric kernel to the point data without normalising."
   ]
  },
  {
   "cell_type": "code",
   "execution_count": null,
   "id": "690524ec",
   "metadata": {},
   "outputs": [],
   "source": [
    "distances, vertices = mesh.nearest_vertices(lons, lats, k=10)\n",
    "norm = distances.sum(axis=1)\n",
    "\n",
    "# distances, vertices are arrays of shape (data_size, 10)\n",
    "\n",
    "hit_countid = np.zeros_like(mesh.lons)\n",
    "\n",
    "## numpy shouldn't try to vectorise this reduction operation\n",
    "\n",
    "for i in range(0,distances.shape[0]):\n",
    "    hit_countid[vertices[i,:]] += distances[i,:] / norm[i]\n",
    "\n",
    "\n",
    "hit_countidr = np.zeros_like(mesh.lons)\n",
    "\n",
    "## numpy shouldn't try to vectorise this reduction operation\n",
    "\n",
    "for i in range(0,distances.shape[0]):\n",
    "    hit_countidr[vertices[i,:]] += np.exp( -distances[i,:] / 0.02 ) "
   ]
  },
  {
   "cell_type": "code",
   "execution_count": null,
   "id": "8002a9ab",
   "metadata": {},
   "outputs": [],
   "source": [
    "fig = plt.figure(figsize=(10, 10), facecolor=\"none\")\n",
    "ax  = plt.subplot(111, projection=ccrs.Mollweide())\n",
    "ax.coastlines(color=\"lightgrey\", )\n",
    "ax.set_global()\n",
    "\n",
    "lons0 = np.degrees(mesh.lons)\n",
    "lats0 = np.degrees(mesh.lats)\n",
    "\n",
    "ax.scatter(lons0, lats0, \n",
    "            marker=\"o\", s=30.0, transform=ccrs.PlateCarree(), c=hit_countid, cmap=plt.cm.Reds, vmin=0.333, vmax=10.0, alpha=0.25)\n",
    "\n",
    "pass"
   ]
  },
  {
   "cell_type": "markdown",
   "id": "8474f55a",
   "metadata": {},
   "source": [
    "## Mapping data other than frequency to the regular mesh\n",
    "\n",
    "Here we show how to map point data to the regular mesh - produce a representation of the depth of the events instead of just their frequency. When plotting, we need to distinguish between zero information and zero (shallow) depth. This is done by using the weight function to determine the opacity of the symbol or field that we plot. This has the effect of washing out the regions with few, large events compared to those with many small ones (which in this case means washed out regions where earthquakes are deep)."
   ]
  },
  {
   "cell_type": "code",
   "execution_count": null,
   "id": "b5596ede",
   "metadata": {},
   "outputs": [],
   "source": [
    "depth_idr = np.zeros_like(mesh.lons)\n",
    "\n",
    "## numpy shouldn't try to vectorise this reduction operation\n",
    "\n",
    "for i in range(0,distances.shape[0]):\n",
    "    depth_idr[vertices[i,:]] += depths[i] * np.exp( -distances[i,:] / 0.02 ) \n",
    "\n",
    "depth_idr[hit_countidr != 0.0] /=  hit_countidr[hit_countidr != 0.0]"
   ]
  },
  {
   "cell_type": "code",
   "execution_count": null,
   "id": "b06b9577",
   "metadata": {},
   "outputs": [],
   "source": [
    "fig = plt.figure(figsize=(10, 10), facecolor=\"none\")\n",
    "ax  = plt.subplot(111, projection=ccrs.Mollweide())\n",
    "ax.coastlines(color=\"lightgrey\", )\n",
    "ax.set_global()\n",
    "\n",
    "lons0 = np.degrees(mesh.lons)\n",
    "lats0 = np.degrees(mesh.lats)\n",
    "\n",
    "ax.scatter(lons0, lats0, \n",
    "            marker=\"o\", transform=ccrs.PlateCarree(), c=depth_idr, s=hit_countidr,\n",
    "            cmap=plt.cm.RdBu, vmin=0.0, vmax=500.0, alpha=0.25)\n",
    "\n",
    "pass"
   ]
  },
  {
   "cell_type": "markdown",
   "id": "8240990a",
   "metadata": {},
   "source": [
    "## Visualisation"
   ]
  },
  {
   "cell_type": "code",
   "execution_count": null,
   "id": "eed77460",
   "metadata": {},
   "outputs": [],
   "source": [
    "import k3d\n",
    "\n",
    "plot = k3d.plot(camera_auto_fit=False, grid_visible=False, \n",
    "                menu_visibility=True, axes_helper=False )\n",
    "\n",
    "indices = mesh.simplices.astype(np.uint32)\n",
    "points = np.column_stack(mesh.points.T).astype(np.float32)\n",
    "\n",
    "mesh_viewer = k3d.mesh(points, indices, wireframe=False, attribute=hit_count,\n",
    "                   color_map=k3d.colormaps.paraview_color_maps.Cool_to_Warm, \n",
    "                   name=\"heat map\",\n",
    "                   flat_shading=False, opacity=1.0  )\n",
    "\n",
    "## This helps to manage the wireframe / transparency\n",
    "background = k3d.mesh(points*0.95, indices, wireframe=False, \n",
    "                   color=0xBBBBBB, opacity=1.0, flat_shading=False  )\n",
    "\n",
    "\n",
    "plot   += mesh_viewer\n",
    "plot += background\n",
    "plot.display()\n",
    "\n",
    "## ## ## \n",
    "\n",
    "from ipywidgets import interact, interactive\n",
    "import ipywidgets as widgets\n",
    "\n",
    "choices = { \"hit_count\": hit_count,\n",
    "             \"hit_countn\": hit_countn, \n",
    "             \"hit_countid\": hit_countid, \n",
    "             \"hit_countidr\": hit_countidr,\n",
    "             \"depth_idr\": depth_idr  }\n",
    "\n",
    "@interact(choice=choices.keys())\n",
    "def chooser(choice):\n",
    "    mesh_viewer.attribute = choices[choice].astype(np.float32)\n",
    "    range = choices[choice].max() * 0.2\n",
    "    mesh_viewer.color_range = [0, range]\n",
    "    return "
   ]
  },
  {
   "cell_type": "markdown",
   "id": "71f2b01e",
   "metadata": {},
   "source": [
    "The next example is [Ex7-Refinement-of-Triangulations](./Ex7-Refinement-of-Triangulations.ipynb)"
   ]
  },
  {
   "cell_type": "code",
   "execution_count": null,
   "id": "87fc64b1-8fad-47dc-a132-f163ddb4f5f6",
   "metadata": {},
   "outputs": [],
   "source": []
  }
 ],
 "metadata": {
  "kernelspec": {
   "display_name": "Python 3 (ipykernel)",
   "language": "python",
   "name": "python3"
  },
  "language_info": {
   "codemirror_mode": {
    "name": "ipython",
    "version": 3
   },
   "file_extension": ".py",
   "mimetype": "text/x-python",
   "name": "python",
   "nbconvert_exporter": "python",
   "pygments_lexer": "ipython3",
   "version": "3.8.12"
  }
 },
 "nbformat": 4,
 "nbformat_minor": 5
}
