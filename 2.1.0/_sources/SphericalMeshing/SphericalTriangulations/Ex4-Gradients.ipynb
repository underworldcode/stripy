{
 "cells": [
  {
   "cell_type": "markdown",
   "id": "a9e6af9c",
   "metadata": {},
   "source": [
    "## Example 4 - `stripy` gradients on the sphere\n",
    "\n",
    "SSRFPACK is a Fortran 77 software package that constructs a smooth interpolatory or approximating surface to data values associated with arbitrarily distributed points on the surface of a sphere. It employs automatically selected tension factors to preserve shape properties of the data and avoid overshoot and undershoot associated with steep gradients.\n",
    "\n",
    "\n",
    "\n",
    "#### Notebook contents\n",
    "\n",
    "   - [Analytic function and derivatives](#Analytic-function)\n",
    "   - [Evaluating accuracy](#Derivatives-of-solution-compared-to-analytic-values)\n",
    "\n",
    "\n",
    "The next example is [Ex5-Smoothing](./Ex5-Smoothing.md)"
   ]
  },
  {
   "cell_type": "markdown",
   "id": "783b9543",
   "metadata": {},
   "source": [
    "### Define a computational mesh\n",
    "\n",
    "Use the (usual) icosahedron with face points included."
   ]
  },
  {
   "cell_type": "code",
   "execution_count": null,
   "id": "d5fcc73b",
   "metadata": {},
   "outputs": [],
   "source": [
    "import stripy as stripy\n",
    "\n",
    "mesh = stripy.spherical_meshes.icosahedral_mesh(refinement_levels=4, include_face_points=True)\n",
    "\n",
    "print(mesh.npoints)"
   ]
  },
  {
   "cell_type": "markdown",
   "id": "3ffb4429",
   "metadata": {},
   "source": [
    "### Analytic function \n",
    "\n",
    "Define a relatively smooth function that we can interpolate from the coarse mesh to the fine mesh and analyse"
   ]
  },
  {
   "cell_type": "code",
   "execution_count": null,
   "id": "3db5a33d",
   "metadata": {},
   "outputs": [],
   "source": [
    "import numpy as np\n",
    "\n",
    "def analytic(lons, lats, k1, k2):\n",
    "     return np.cos(k1*lons) * np.sin(k2*lats)\n",
    "\n",
    "def analytic_ddlon(lons, lats, k1, k2):\n",
    "     return -k1 * np.sin(k1*lons) * np.sin(k2*lats) / np.cos(lats)\n",
    "\n",
    "def analytic_ddlat(lons, lats, k1, k2):\n",
    "     return k2 * np.cos(k1*lons) * np.cos(k2*lats) \n",
    "\n",
    "analytic_sol = analytic(mesh.lons, mesh.lats, 5.0, 2.0)\n",
    "analytic_sol_ddlon = analytic_ddlon(mesh.lons, mesh.lats, 5.0, 2.0)\n",
    "analytic_sol_ddlat = analytic_ddlat(mesh.lons, mesh.lats, 5.0, 2.0)"
   ]
  },
  {
   "cell_type": "code",
   "execution_count": null,
   "id": "deba7b55",
   "metadata": {},
   "outputs": [],
   "source": [
    "%matplotlib inline\n",
    "\n",
    "import cartopy\n",
    "import cartopy.crs as ccrs\n",
    "import matplotlib.pyplot as plt\n",
    "\n",
    "\n",
    "fig = plt.figure(figsize=(10, 10), facecolor=\"none\")\n",
    "ax  = plt.subplot(111, projection=ccrs.Orthographic(central_longitude=0.0, central_latitude=0.0, globe=None))\n",
    "ax.coastlines(color=\"lightgrey\")\n",
    "ax.set_global()\n",
    "\n",
    "lons0 = np.degrees(mesh.lons)\n",
    "lats0 = np.degrees(mesh.lats)\n",
    "\n",
    "ax.scatter(lons0, lats0, \n",
    "            marker=\"o\", s=10.0, transform=ccrs.PlateCarree(), c=analytic_sol, cmap=plt.cm.RdBu)\n",
    "\n",
    "pass"
   ]
  },
  {
   "cell_type": "markdown",
   "id": "8d3adcce",
   "metadata": {},
   "source": [
    "### Derivatives of solution compared to analytic values\n",
    "\n",
    "The `gradient_lonlat` method of the sTriangulation takes a data array reprenting values on the mesh vertices and returns the lon and lat derivatives. There is an equivalent `gradient_xyz` method which returns the raw derivatives in Cartesian form. Although this is generally less useful, if you are computing the slope (for example) that can be computed in either coordinate system and may cross the pole, consider using the Cartesian form."
   ]
  },
  {
   "cell_type": "code",
   "execution_count": null,
   "id": "0f1829d1",
   "metadata": {},
   "outputs": [],
   "source": [
    "stripy_ddlon, stripy_ddlat = mesh.gradient_lonlat(analytic_sol)"
   ]
  },
  {
   "cell_type": "code",
   "execution_count": null,
   "id": "8c59139f",
   "metadata": {
    "tags": []
   },
   "outputs": [],
   "source": [
    "import k3d\n",
    "plot = k3d.plot(camera_auto_fit=False, grid_visible=False, \n",
    "                menu_visibility=True, axes_helper=False )\n",
    "\n",
    "indices = mesh.simplices.astype(np.uint32)\n",
    "points = np.column_stack(mesh.points.T).astype(np.float32)\n",
    "\n",
    "mesh_viewer = k3d.mesh(points, indices, wireframe=False, attribute=analytic_sol,\n",
    "                   color_map=k3d.colormaps.basic_color_maps.CoolWarm, \n",
    "                   name=\"original\",\n",
    "                   flat_shading=False, opacity=1.0  )\n",
    "\n",
    "plot   += mesh_viewer\n",
    "plot   += k3d.points(points, point_size=0.01,color=0x779977)\n",
    "\n",
    "\n",
    "plot.display()\n",
    "\n",
    "## ## ## \n",
    "\n",
    "from ipywidgets import interact, interactive\n",
    "import ipywidgets as widgets\n",
    "\n",
    "choices = { \"analytic\": analytic_sol,\n",
    "             \"stripy ddlon\": stripy_ddlon, \n",
    "             \"stripy ddlat\": stripy_ddlat, \n",
    "             \"error ddlon\":  stripy_ddlon-analytic_sol_ddlon, \n",
    "             \"error ddlat\":  stripy_ddlat-analytic_sol_ddlat }\n",
    "\n",
    "@interact(choice=choices.keys())\n",
    "def chooser(choice):\n",
    "    mesh_viewer.attribute = choices[choice].astype(np.float32)\n",
    "    range = np.sqrt((choices[choice]**2).mean()) * 0.5\n",
    "    mesh_viewer.color_range = [-range, range]\n",
    "    return \n",
    "\n",
    "\n",
    "\n",
    "\n"
   ]
  },
  {
   "cell_type": "markdown",
   "id": "af7ac2e6",
   "metadata": {},
   "source": [
    "The next example is [Ex5-Smoothing](./Ex5-Smoothing.ipynb)"
   ]
  },
  {
   "cell_type": "code",
   "execution_count": null,
   "id": "0a2c098c-a5a2-46e8-a75f-fb7ee645ab28",
   "metadata": {},
   "outputs": [],
   "source": []
  }
 ],
 "metadata": {
  "kernelspec": {
   "display_name": "Python 3 (ipykernel)",
   "language": "python",
   "name": "python3"
  },
  "language_info": {
   "codemirror_mode": {
    "name": "ipython",
    "version": 3
   },
   "file_extension": ".py",
   "mimetype": "text/x-python",
   "name": "python",
   "nbconvert_exporter": "python",
   "pygments_lexer": "ipython3",
   "version": "3.8.12"
  }
 },
 "nbformat": 4,
 "nbformat_minor": 5
}
