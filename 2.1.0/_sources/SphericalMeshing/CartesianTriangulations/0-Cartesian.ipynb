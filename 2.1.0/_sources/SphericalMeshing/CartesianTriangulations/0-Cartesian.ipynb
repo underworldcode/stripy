{
 "cells": [
  {
   "cell_type": "markdown",
   "id": "395514e4",
   "metadata": {},
   "source": [
    "# Cartesian Meshes\n",
    "\n",
    "  - [Ex1-Cartesian-Triangulations](Ex1-Cartesian-Triangulations.md)\n",
    "  - [Ex2-CartesianGrids.md](Ex2-CartesianGrids.md)\n",
    "  - [Ex3-Interpolation.md](Ex3-Interpolation.md)\n",
    "  - [Ex4-Gradients.md](Ex4-Gradients.md)\n",
    "  - [Ex5-Smoothing.md](Ex5-Smoothing.md)\n",
    "  - [Ex6-Scattered-Data.md](Ex6-Scattered-Data.md)\n",
    "  - [Ex7-Refinement-of-Triangulations.md](Ex7-Refinement-of-Triangulations.md)\n",
    "  - [Ex8-Spline-Tension.md](Ex8-Spline-Tension.md)\n",
    "  - [Ex9-Voronoi-Diagram.md](Ex9-Voronoi-Diagram.md)"
   ]
  },
  {
   "cell_type": "code",
   "execution_count": null,
   "id": "60db39c3",
   "metadata": {},
   "outputs": [],
   "source": []
  }
 ],
 "metadata": {
  "jupytext": {
   "text_representation": {
    "extension": ".md",
    "format_name": "myst",
    "format_version": 0.12,
    "jupytext_version": "1.6.0"
   }
  },
  "kernelspec": {
   "display_name": "Python 3",
   "language": "python",
   "name": "python3"
  },
  "language_info": {
   "codemirror_mode": {
    "name": "ipython",
    "version": 3
   },
   "file_extension": ".py",
   "mimetype": "text/x-python",
   "name": "python",
   "nbconvert_exporter": "python",
   "pygments_lexer": "ipython3",
   "version": "3.7.12"
  },
  "source_map": [
   12,
   26
  ]
 },
 "nbformat": 4,
 "nbformat_minor": 5
}