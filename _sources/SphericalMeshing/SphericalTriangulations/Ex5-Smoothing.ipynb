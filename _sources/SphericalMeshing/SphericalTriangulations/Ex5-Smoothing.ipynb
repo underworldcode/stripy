{
 "cells": [
  {
   "cell_type": "markdown",
   "id": "a57dab78",
   "metadata": {},
   "source": [
    "# Example 5 - `stripy` smoothing operations\n",
    "\n",
    "SSRFPACK is a Fortran 77 software package that constructs a smooth interpolatory or approximating surface to data values associated with arbitrarily distributed points on the surface of a sphere. It employs automatically selected tension factors to preserve shape properties of the data and avoid overshoot and undershoot associated with steep gradients.\n",
    "\n",
    "Here we demonstrate how to access SSRFPACK smoothing through the `stripy` interface\n",
    "\n",
    "## Notebook contents\n",
    "\n",
    "   - [Computational mesh](#Define-a-computational-mesh)\n",
    "   - [Function with noise](#Analytic-function-with-noise-and-short-wavelengths)\n",
    "   - [Smoothing operator](#Smoothing-operations)\n",
    "   - [Results of smoothing](#Results-of-smoothing-with-different-value-of-sm)\n",
    "   \n",
    "\n",
    "The next example is [Ex6-Scattered-Data](./Ex6-Scattered-Data.md)"
   ]
  },
  {
   "cell_type": "markdown",
   "id": "fc33a306",
   "metadata": {},
   "source": [
    "## Define a computational mesh\n",
    "\n",
    "Use the (usual) icosahedron with face points included."
   ]
  },
  {
   "cell_type": "code",
   "execution_count": null,
   "id": "69515d14",
   "metadata": {},
   "outputs": [],
   "source": [
    "import stripy as stripy\n",
    "\n",
    "mesh = stripy.spherical_meshes.icosahedral_mesh(refinement_levels=4, include_face_points=True)\n",
    "\n",
    "print(mesh.npoints)"
   ]
  },
  {
   "cell_type": "markdown",
   "id": "3dbd0575",
   "metadata": {},
   "source": [
    "## Analytic function with noise and short wavelengths\n",
    "\n",
    "Define a relatively smooth function that we can interpolate from the coarse mesh to the fine mesh and analyse"
   ]
  },
  {
   "cell_type": "code",
   "execution_count": null,
   "id": "1c80fde3",
   "metadata": {},
   "outputs": [],
   "source": [
    "import numpy as np\n",
    "\n",
    "def analytic(lons, lats, k1, k2):\n",
    "     return  np.cos(k1*lons) * np.sin(k2*lats) \n",
    "    \n",
    "def analytic_noisy(lons, lats, k1, k2, noise, short):\n",
    "     return  np.cos(k1*lons) * np.sin(k2*lats) + short * (np.cos(k1*5.0*lons) * np.sin(k2*5.0*lats)) +  noise * np.random.random(lons.shape)\n",
    "\n",
    "# def analytic_ddlon(lons, lats, k1, k2):\n",
    "#      return -k1 * np.sin(k1*lons) * np.sin(k2*lats) / np.cos(lats)\n",
    "\n",
    "# def analytic_ddlat(lons, lats, k1, k2):\n",
    "#      return k2 * np.cos(k1*lons) * np.cos(k2*lats) \n",
    "\n",
    "\n",
    "analytic_sol   = analytic(mesh.lons, mesh.lats, 5.0, 2.0)\n",
    "analytic_sol_n = analytic_noisy(mesh.lons, mesh.lats, 5.0, 2.0, 0.1, 0.0)"
   ]
  },
  {
   "cell_type": "code",
   "execution_count": null,
   "id": "95cb37d8",
   "metadata": {},
   "outputs": [],
   "source": [
    "%matplotlib inline\n",
    "\n",
    "import cartopy\n",
    "import cartopy.crs as ccrs\n",
    "import matplotlib.pyplot as plt\n",
    "\n",
    "fig = plt.figure(figsize=(10, 10), facecolor=\"none\")\n",
    "ax  = plt.subplot(111, projection=ccrs.Orthographic(central_longitude=0.0, central_latitude=0.0, globe=None))\n",
    "ax.coastlines(color=\"#999999\", linewidth=2.0)\n",
    "ax.set_global()\n",
    "\n",
    "lons0 = np.degrees(mesh.lons)\n",
    "lats0 = np.degrees(mesh.lats)\n",
    "\n",
    "ax.scatter(lons0, lats0, \n",
    "            marker=\"o\", s=10.0, transform=ccrs.PlateCarree(), c=analytic_sol_n-analytic_sol, cmap=plt.cm.RdBu)\n",
    "\n",
    "pass"
   ]
  },
  {
   "cell_type": "markdown",
   "id": "5c8e14d9",
   "metadata": {},
   "source": [
    "## Smoothing operations \n",
    "\n",
    "The `sTriangulation.smoothing` method directly wraps the SSRFPack smoother that smooths a surface f described \n",
    "by values on the mesh vertices to find a new surface f' (also described on the mesh vertices) by choosing nodal function values and gradients to minimize the linearized curvature of F subject to a bound on the deviation from the data values. \n",
    "\n",
    "```python\n",
    "\n",
    "help(mesh.smoothing)\n",
    "```\n",
    "    smoothing(self, f, w, sm, smtol, gstol)\n",
    "    \n",
    "    method of stripy.spherical_meshes.icosahedral_mesh instance\n",
    "    Smooths a surface f by choosing nodal function values and gradients to\n",
    "    minimize the linearized curvature of F subject to a bound on the\n",
    "    deviation from the data values. This is more appropriate than interpolation\n",
    "    when significant errors are present in the data.\n",
    "    \n",
    "    Parameters\n",
    "    ----------\n",
    "     f : array of floats, shape (n,)\n",
    "        field to apply smoothing on\n",
    "     w : array of floats, shape (n,)\n",
    "        weights associated with data value in f\n",
    "        w[i] = 1/sigma_f^2 is a good rule of thumb.\n",
    "     sm : float\n",
    "        positive parameter specifying an upper bound on Q2(f).\n",
    "        generally n-sqrt(2n) <= sm <= n+sqrt(2n)\n",
    "     smtol : float\n",
    "        specifies relative error in satisfying the constraint\n",
    "        sm(1-smtol) <= Q2 <= sm(1+smtol) between 0 and 1.\n",
    "     gstol : float\n",
    "        tolerance for convergence.\n",
    "        gstol = 0.05*mean(sigma_f)^2 is a good rule of thumb.\n",
    "    \n",
    "    Returns\n",
    "    -------\n",
    "     f_smooth : array of floats, shape (n,)\n",
    "        smoothed version of f\n",
    "     (dfdx, dfdy, dfdz) : tuple of floats, tuple of 3 shape (n,) arrays\n",
    "        first derivatives of f_smooth in the x, y, and z directions\n",
    "     err : error indicator"
   ]
  },
  {
   "cell_type": "code",
   "execution_count": null,
   "id": "ad762531",
   "metadata": {},
   "outputs": [],
   "source": [
    "stripy_smoothed,  dds, err = mesh.smoothing(analytic_sol_n, np.ones_like(analytic_sol_n), 10.0, 0.1, 0.01)\n",
    "stripy_smoothed2, dds, err = mesh.smoothing(analytic_sol_n, np.ones_like(analytic_sol_n), 1.0, 0.1, 0.01)\n",
    "stripy_smoothed3, dds, err = mesh.smoothing(analytic_sol_n, np.ones_like(analytic_sol_n), 50.0, 0.1, 0.01)\n",
    "\n",
    "delta_n  = analytic_sol_n - stripy_smoothed\n",
    "delta_ns = analytic_sol   - stripy_smoothed\n",
    "\n",
    "delta_n2  = analytic_sol_n - stripy_smoothed2\n",
    "delta_ns2 = analytic_sol   - stripy_smoothed2\n",
    "\n",
    "delta_n3  = analytic_sol_n - stripy_smoothed3\n",
    "delta_ns3 = analytic_sol   - stripy_smoothed3"
   ]
  },
  {
   "cell_type": "markdown",
   "id": "c17582b8",
   "metadata": {},
   "source": [
    "## Results of smoothing with different value of `sm`"
   ]
  },
  {
   "cell_type": "code",
   "execution_count": null,
   "id": "1144d1b5",
   "metadata": {},
   "outputs": [],
   "source": [
    "import k3d\n",
    "\n",
    "plot = k3d.plot(camera_auto_fit=False, grid_visible=False, \n",
    "                menu_visibility=True, axes_helper=False )\n",
    "\n",
    "indices = mesh.simplices.astype(np.uint32)\n",
    "points = np.column_stack(mesh.points.T).astype(np.float32)\n",
    "\n",
    "mesh_viewer = k3d.mesh(points, indices, wireframe=False, attribute=stripy_smoothed,\n",
    "                   color_map=k3d.colormaps.basic_color_maps.CoolWarm, \n",
    "                   name=\"original\",\n",
    "                   flat_shading=False, opacity=1.0  )\n",
    "\n",
    "plot   += mesh_viewer\n",
    "plot   += k3d.points(points, point_size=0.01,color=0x779977)\n",
    "plot.display()\n",
    "\n",
    "## ## ## \n",
    "\n",
    "from ipywidgets import interact, interactive\n",
    "import ipywidgets as widgets\n",
    "\n",
    "choices = { \"unsmoothed\": analytic_sol_n,\n",
    "             \"smooth1\": stripy_smoothed, \n",
    "             \"smooth2\": stripy_smoothed2, \n",
    "             \"smooth3\": stripy_smoothed3,              \n",
    "             \"Delta smooth1\": analytic_sol_n - stripy_smoothed, \n",
    "             \"Delta smooth2\": analytic_sol_n - stripy_smoothed2, \n",
    "             \"Delta smooth3\": analytic_sol_n - stripy_smoothed3, }\n",
    "\n",
    "@interact(choice=choices.keys())\n",
    "def chooser(choice):\n",
    "    mesh_viewer.attribute = choices[choice].astype(np.float32)\n",
    "    range = np.sqrt((choices[choice]**2).mean()) * 0.5\n",
    "    mesh_viewer.color_range = [-range, range]\n",
    "    return \n"
   ]
  },
  {
   "cell_type": "markdown",
   "id": "80640b96",
   "metadata": {},
   "source": [
    "The next example is [Ex6-Scattered-Data](./Ex6-Scattered-Data.ipynb)"
   ]
  },
  {
   "cell_type": "code",
   "execution_count": null,
   "id": "a5c6d1d3-8dff-4c36-ba5b-742b24cf1331",
   "metadata": {},
   "outputs": [],
   "source": []
  }
 ],
 "metadata": {
  "kernelspec": {
   "display_name": "Python 3 (ipykernel)",
   "language": "python",
   "name": "python3"
  },
  "language_info": {
   "codemirror_mode": {
    "name": "ipython",
    "version": 3
   },
   "file_extension": ".py",
   "mimetype": "text/x-python",
   "name": "python",
   "nbconvert_exporter": "python",
   "pygments_lexer": "ipython3",
   "version": "3.8.12"
  }
 },
 "nbformat": 4,
 "nbformat_minor": 5
}
