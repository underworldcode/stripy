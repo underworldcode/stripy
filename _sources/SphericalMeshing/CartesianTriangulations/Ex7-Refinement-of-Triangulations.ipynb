{
 "cells": [
  {
   "cell_type": "markdown",
   "id": "fc6c9937",
   "metadata": {},
   "source": [
    "# Example 7 - Refining a triangulation\n",
    "\n",
    "\n",
    "We have seen how the standard meshes can be uniformly refined to finer resolution. The routines used for this task are available to the `stripy` user for non-uniform refinement as well. \n",
    "\n",
    "\n",
    "## Notebook contents\n",
    "\n",
    "   - [Uniform meshes](#Uniform-meshes-by-refinement)\n",
    "   - [Refinement strategies](#Refinement-strategies)\n",
    "   - [Visualisation](#Visualisation-of-refinement-strategies)\n",
    "   - [Targetted refinement](#Targetted-refinement)\n",
    "   - [Visualisation](#Visualisation-of-targetted-refinement)"
   ]
  },
  {
   "cell_type": "code",
   "execution_count": null,
   "id": "29ff187a",
   "metadata": {},
   "outputs": [],
   "source": [
    "import stripy as stripy\n",
    "import numpy as np\n",
    "\n",
    "xmin = 0.0\n",
    "xmax = 10.0\n",
    "ymin = 0.0\n",
    "ymax = 10.0\n",
    "extent = [xmin, xmax, ymin, ymax]\n",
    "\n",
    "spacingX = 0.5\n",
    "spacingY = 0.5"
   ]
  },
  {
   "cell_type": "markdown",
   "id": "3fb924bf",
   "metadata": {},
   "source": [
    "## Uniform meshes by refinement\n",
    "\n",
    "The `refinement_level` parameter of the `stripy` meshes makes repeated loops determining the bisection points of all the existing edges in the triangulation and then creating a new triangulation that includes these points and the original ones. These refinement operations can also be used for non-uniform refinement."
   ]
  },
  {
   "cell_type": "code",
   "execution_count": null,
   "id": "9f6782ea",
   "metadata": {},
   "outputs": [],
   "source": [
    "ellip0 = stripy.cartesian_meshes.elliptical_mesh(extent, spacingX, spacingY, refinement_levels=0)\n",
    "ellip1 = stripy.cartesian_meshes.elliptical_mesh(extent, spacingX, spacingY, refinement_levels=1)\n",
    "ellip2 = stripy.cartesian_meshes.elliptical_mesh(extent, spacingX, spacingY, refinement_levels=2)\n",
    "ellip3 = stripy.cartesian_meshes.elliptical_mesh(extent, spacingX, spacingY, refinement_levels=3)\n",
    "ellip4 = stripy.cartesian_meshes.elliptical_mesh(extent, spacingX, spacingY, refinement_levels=4)\n",
    "ellip5 = stripy.cartesian_meshes.elliptical_mesh(extent, spacingX, spacingY, refinement_levels=5)\n",
    "ellip6 = stripy.cartesian_meshes.elliptical_mesh(extent, spacingX, spacingY, refinement_levels=6)\n",
    "ellip7 = stripy.cartesian_meshes.elliptical_mesh(extent, spacingX, spacingY, refinement_levels=7)\n",
    "\n",
    "print(\"Size of mesh - 1  {}\".format(ellip1.points.shape[0]))\n",
    "print(\"Size of mesh - 2  {}\".format(ellip2.points.shape[0]))\n",
    "print(\"Size of mesh - 3  {}\".format(ellip3.points.shape[0]))\n",
    "print(\"Size of mesh - 4  {}\".format(ellip4.points.shape[0]))\n",
    "print(\"Size of mesh - 5  {}\".format(ellip5.points.shape[0]))\n",
    "print(\"Size of mesh - 6  {}\".format(ellip6.points.shape[0]))\n",
    "print(\"Size of mesh - 7  {}\".format(ellip7.points.shape[0]))"
   ]
  },
  {
   "cell_type": "markdown",
   "id": "57c2e3b2",
   "metadata": {},
   "source": [
    "## Refinement strategies\n",
    "\n",
    "Five refinement strategies:\n",
    "\n",
    "   - Bisect all segments connected to a given node\n",
    "   - Refine all triangles connected to a given node by adding a point at the centroid or bisecting all edges\n",
    "   - Refine a given triangle by adding a point at the centroid or bisecting all edges\n",
    "   \n",
    "These are provided as follows:"
   ]
  },
  {
   "cell_type": "code",
   "execution_count": null,
   "id": "2e0c02c7",
   "metadata": {},
   "outputs": [],
   "source": [
    "mx, my = ellip2.midpoint_refine_triangulation_by_vertices(vertices=[1,2,3,4,5,6,7,8,9,10])\n",
    "ellip2mv = stripy.Triangulation(mx, my)\n",
    "\n",
    "mx, my = ellip2.edge_refine_triangulation_by_vertices(vertices=[1,2,3,4,5,6,7,8,9,10])\n",
    "ellip2ev = stripy.Triangulation(mx, my)\n",
    "\n",
    "mx, my = ellip2.centroid_refine_triangulation_by_vertices(vertices=[1,2,3,4,5,6,7,8,9,10])\n",
    "ellip2cv = stripy.Triangulation(mx, my)\n",
    "\n",
    "mx, my = ellip2.edge_refine_triangulation_by_triangles(triangles=[1,2,3,4,5,6,7,8,9,10])\n",
    "ellip2et = stripy.Triangulation(mx, my)\n",
    "\n",
    "mx, my = ellip2.centroid_refine_triangulation_by_triangles(triangles=[1,2,3,4,5,6,7,8,9,10])\n",
    "ellip2ct = stripy.Triangulation(mx, my)\n",
    "\n",
    "\n",
    "str_fmt = \"refinement --- {} points, {} simplices\"\n",
    "print(str_fmt.format(ellip2mv.npoints, ellip2mv.simplices.shape[0]))\n",
    "print(str_fmt.format(ellip2ev.npoints, ellip2ev.simplices.shape[0]))\n",
    "print(str_fmt.format(ellip2cv.npoints, ellip2cv.simplices.shape[0]))\n",
    "print(str_fmt.format(ellip2et.npoints, ellip2et.simplices.shape[0]))\n",
    "print(str_fmt.format(ellip2ct.npoints, ellip2ct.simplices.shape[0]))"
   ]
  },
  {
   "cell_type": "markdown",
   "id": "83ffd3f1",
   "metadata": {},
   "source": [
    "## Visualisation of refinement strategies"
   ]
  },
  {
   "cell_type": "code",
   "execution_count": null,
   "id": "33984b9a",
   "metadata": {},
   "outputs": [],
   "source": [
    "%matplotlib inline\n",
    "import matplotlib.pyplot as plt\n",
    "\n",
    "\n",
    "def mesh_fig(mesh, meshR, name):\n",
    "\n",
    "    fig = plt.figure(figsize=(10, 10), facecolor=\"none\")\n",
    "    ax  = plt.subplot(111)\n",
    "    ax.axis('off')\n",
    "\n",
    "    generator = mesh\n",
    "    refined   = meshR\n",
    "\n",
    "    x0 = generator.x\n",
    "    y0 = generator.y\n",
    "\n",
    "    xR = refined.x\n",
    "    yR = refined.y\n",
    "    \n",
    "\n",
    "    ax.scatter(x0, y0, color=\"Red\", marker=\"o\", s=50)\n",
    "    ax.scatter(xR, yR, color=\"DarkBlue\", marker=\"o\", s=10)\n",
    "    \n",
    "    ax.triplot(xR, yR, refined.simplices, color=\"black\", linewidth=0.5)\n",
    "\n",
    "    fig.savefig(name, dpi=250, transparent=True)\n",
    "    \n",
    "    return\n",
    "\n",
    "\n",
    "mesh_fig(ellip2,  ellip2mv,  \"EdgeByVertex1to10\" )\n",
    "mesh_fig(ellip2,  ellip2ev,  \"EdgeByVertexT1to10\" )\n",
    "mesh_fig(ellip2,  ellip2cv,  \"CentroidByVertexT1to10\" )\n",
    "mesh_fig(ellip2,  ellip2et,  \"EdgeByTriangle1to10\" )\n",
    "mesh_fig(ellip2,  ellip2ct,  \"CentroidByTriangle1to10\" )\n"
   ]
  },
  {
   "cell_type": "markdown",
   "id": "f813cfbb",
   "metadata": {},
   "source": [
    "## Targetted refinement\n",
    "\n",
    "Here we refine a triangulation to a specific criterion - resolving two points in distinct triangles or with distinct nearest neighbour vertices."
   ]
  },
  {
   "cell_type": "code",
   "execution_count": null,
   "id": "f59ce87a",
   "metadata": {},
   "outputs": [],
   "source": [
    "points = np.array([[ 3.33, 3.33], [7.77, 7.77]]).T"
   ]
  },
  {
   "cell_type": "code",
   "execution_count": null,
   "id": "b9a235d5",
   "metadata": {},
   "outputs": [],
   "source": [
    "triangulations = [ellip1]\n",
    "nearest, distances = triangulations[-1].nearest_vertex(points[:,0], points[:,1])\n",
    "\n",
    "max_depth = 10\n",
    "\n",
    "while nearest[0] == nearest[1] and max_depth > 0:\n",
    "\n",
    "    xs, ys = triangulations[-1].centroid_refine_triangulation_by_vertices(vertices=nearest[0])\n",
    "    new_triangulation = stripy.Triangulation(xs, ys)\n",
    "    nearest, distances = new_triangulation.nearest_vertex(points[:,0], points[:,1])\n",
    "    triangulations.append(new_triangulation)\n",
    "    \n",
    "    max_depth -= 1\n",
    "\n",
    "print(\"refinement_steps = {}\".format(len(triangulations)))\n",
    "\n",
    "centroid_triangulations = triangulations[:]"
   ]
  },
  {
   "cell_type": "code",
   "execution_count": null,
   "id": "833cbfab",
   "metadata": {},
   "outputs": [],
   "source": [
    "triangulations = [ellip1]\n",
    "nearest, distances = triangulations[-1].nearest_vertex(points[:,0], points[:,1])\n",
    "\n",
    "max_depth = 10\n",
    "\n",
    "while nearest[0] == nearest[1] and max_depth > 0:\n",
    "\n",
    "    xs, ys = triangulations[-1].edge_refine_triangulation_by_vertices(vertices=nearest[0])\n",
    "    new_triangulation = stripy.Triangulation(xs, ys)\n",
    "    nearest, distances = new_triangulation.nearest_vertex(points[:,0], points[:,1])\n",
    "    triangulations.append(new_triangulation)\n",
    "    \n",
    "    max_depth -= 1\n",
    "\n",
    "print(\"refinement_steps = {}\".format(len(triangulations)))\n",
    "\n",
    "edge_triangulations = triangulations[:]"
   ]
  },
  {
   "cell_type": "code",
   "execution_count": null,
   "id": "c6991cbd",
   "metadata": {},
   "outputs": [],
   "source": [
    "triangulations = [ellip1]\n",
    "\n",
    "in_triangle = triangulations[-1].containing_triangle(points[:,0], points[:,1])\n",
    "\n",
    "max_depth = 10\n",
    "\n",
    "while in_triangle[0] == in_triangle[1] and max_depth > 0:\n",
    "\n",
    "    xs, ys = triangulations[-1].edge_refine_triangulation_by_triangles(in_triangle[0])\n",
    "    new_triangulation = stripy.Triangulation(xs, ys)\n",
    "    in_triangle = new_triangulation.containing_triangle(points[:,0], points[:,1])\n",
    "    triangulations.append(new_triangulation)\n",
    "    \n",
    "    print(in_triangle)\n",
    "\n",
    "\n",
    "    \n",
    "    if in_triangle.shape[0] == 0:\n",
    "        break\n",
    "    \n",
    "    max_depth -= 1\n",
    "\n",
    "print(\"refinement_steps = {}\".format(len(triangulations)))\n",
    "\n",
    "edge_t_triangulations = triangulations[:]"
   ]
  },
  {
   "cell_type": "code",
   "execution_count": null,
   "id": "a37ab361",
   "metadata": {},
   "outputs": [],
   "source": [
    "triangulations = [ellip1]\n",
    "\n",
    "in_triangle = triangulations[-1].containing_triangle(points[:,0], points[:,1])\n",
    "\n",
    "max_depth = 10\n",
    "\n",
    "while in_triangle[0] == in_triangle[1] and max_depth > 0:\n",
    "\n",
    "    xs, ys = triangulations[-1].centroid_refine_triangulation_by_triangles(in_triangle[0])\n",
    "    new_triangulation = stripy.Triangulation(xs, ys)\n",
    "    in_triangle = new_triangulation.containing_triangle(points[:,0], points[:,1])\n",
    "    triangulations.append(new_triangulation)\n",
    "    \n",
    "    print(in_triangle)\n",
    "    \n",
    "    if in_triangle.shape[0] == 0:\n",
    "        break\n",
    "    \n",
    "    max_depth -= 1\n",
    "\n",
    "print(\"refinement_steps = {}\".format(len(triangulations)))\n",
    "\n",
    "centroid_t_triangulations = triangulations[:]"
   ]
  },
  {
   "cell_type": "markdown",
   "id": "79fd1ae4",
   "metadata": {},
   "source": [
    "## Visualisation of targetted refinement"
   ]
  },
  {
   "cell_type": "code",
   "execution_count": null,
   "id": "2037a6bb",
   "metadata": {},
   "outputs": [],
   "source": [
    "import matplotlib.pyplot as plt\n",
    "%matplotlib inline\n",
    "\n",
    "str_fmt = \"{:18} --- {} simplices,  equant max = {:.2f},  equant min = {:.2f},  size ratio = {:.2f}\"\n",
    "\n",
    "\n",
    "mesh_fig(edge_triangulations[0],        edge_triangulations[-1],     \"EdgeByVertex\" )\n",
    "\n",
    "T = edge_triangulations[-1]\n",
    "E = np.array(T.edge_lengths()).T\n",
    "A = np.array(T.areas()).T\n",
    "equant = np.max(E, axis=1) / np.min(E, axis=1)\n",
    "size_ratio = np.sqrt(np.max(A) / np.min(A))\n",
    "print(str_fmt.format(\"EdgeByVertex\", T.simplices.shape[0], equant.max(), equant.min(), size_ratio))\n",
    "\n",
    "\n",
    "mesh_fig(edge_t_triangulations[0],      edge_t_triangulations[-1],     \"EdgeByTriangle\" )\n",
    "\n",
    "T = edge_t_triangulations[-1]\n",
    "E = np.array(T.edge_lengths()).T\n",
    "A = np.array(T.areas()).T\n",
    "equant = np.max(E, axis=1) / np.min(E, axis=1)\n",
    "size_ratio = np.sqrt(np.max(A) / np.min(A))\n",
    "print(str_fmt.format(\"EdgeByTriangle\", T.simplices.shape[0], equant.max(), equant.min(), size_ratio))\n",
    "\n",
    "\n",
    "mesh_fig(centroid_triangulations[0],    centroid_triangulations[-1],   \"CentroidByVertex\" )\n",
    "\n",
    "T = centroid_triangulations[-1]\n",
    "E = np.array(T.edge_lengths()).T\n",
    "A = np.array(T.areas()).T\n",
    "equant = np.max(E, axis=1) / np.min(E, axis=1)\n",
    "size_ratio = np.sqrt(np.max(A) / np.min(A))\n",
    "print(str_fmt.format(\"CentroidByVertex\", T.simplices.shape[0], equant.max(), equant.min(), size_ratio))\n",
    "\n",
    "\n",
    "\n",
    "mesh_fig(centroid_t_triangulations[0],  centroid_t_triangulations[-1], \"CentroidByTriangle\" )\n",
    "\n",
    "T = centroid_t_triangulations[-1]\n",
    "E = np.array(T.edge_lengths()).T\n",
    "A = np.array(T.areas()).T\n",
    "equant = np.max(E, axis=1) / np.min(E, axis=1)\n",
    "size_ratio = np.sqrt(np.max(A) / np.min(A))\n",
    "print(str_fmt.format(\"CentroidByTriangle\", T.simplices.shape[0], equant.max(), equant.min(), size_ratio))"
   ]
  },
  {
   "cell_type": "markdown",
   "id": "f4accba8-a7f9-440a-ac4d-df50e3b16216",
   "metadata": {},
   "source": [
    "The next example is [Spline-Tensions](./Ex8-Spline-Tension.ipynb)"
   ]
  },
  {
   "cell_type": "code",
   "execution_count": null,
   "id": "81c9df92-2940-4c18-b227-6a453a859fc2",
   "metadata": {},
   "outputs": [],
   "source": []
  }
 ],
 "metadata": {
  "kernelspec": {
   "display_name": "Python 3 (ipykernel)",
   "language": "python",
   "name": "python3"
  },
  "language_info": {
   "codemirror_mode": {
    "name": "ipython",
    "version": 3
   },
   "file_extension": ".py",
   "mimetype": "text/x-python",
   "name": "python",
   "nbconvert_exporter": "python",
   "pygments_lexer": "ipython3",
   "version": "3.8.12"
  }
 },
 "nbformat": 4,
 "nbformat_minor": 5
}
