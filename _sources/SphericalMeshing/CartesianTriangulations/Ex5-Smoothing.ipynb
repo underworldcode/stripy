{
 "cells": [
  {
   "cell_type": "markdown",
   "id": "5dd9fc69",
   "metadata": {},
   "source": [
    "# Example 5 - `stripy` smoothing operations\n",
    "\n",
    "SRFPACK is a Fortran 77 software package that constructs a smooth interpolatory or approximating surface to data values associated with arbitrarily distributed points. It employs automatically selected tension factors to preserve shape properties of the data and avoid overshoot and undershoot associated with steep gradients.\n",
    "\n",
    "Here we demonstrate how to access SRFPACK smoothing through the `stripy` interface.\n",
    "\n",
    "## Notebook contents\n",
    "\n",
    "   - [Computational mesh](#Define-a-computational-mesh)\n",
    "   - [Function with noise](#Analytic-function-with-noise-and-short-wavelengths)\n",
    "   - [Smoothing operator](#Smoothing-operations)\n",
    "   - [Results of smoothing](#Results-of-smoothing-with-different-value-of-sm)\n",
    "   \n",
    "\n",
    "The next example is [Ex6-Scattered-Data](./Ex6-Scattered-Data.md)"
   ]
  },
  {
   "cell_type": "markdown",
   "id": "f9aa7fc3",
   "metadata": {},
   "source": [
    "## Define a computational mesh\n",
    "\n",
    "Use the (usual) icosahedron with face points included."
   ]
  },
  {
   "cell_type": "code",
   "execution_count": null,
   "id": "49d7238f",
   "metadata": {},
   "outputs": [],
   "source": [
    "import stripy as stripy\n",
    "\n",
    "xmin = 0.0\n",
    "xmax = 10.0\n",
    "ymin = 0.0\n",
    "ymax = 10.0\n",
    "extent = [xmin, xmax, ymin, ymax]\n",
    "\n",
    "spacingX = 0.2\n",
    "spacingY = 0.2\n",
    "\n",
    "mesh = stripy.cartesian_meshes.elliptical_mesh(extent, spacingX, spacingY, refinement_levels=1)\n",
    "mesh = stripy.Triangulation(mesh.x, mesh.y, permute=True)\n",
    "print(mesh.npoints)"
   ]
  },
  {
   "cell_type": "markdown",
   "id": "eccb9422",
   "metadata": {},
   "source": [
    "## Analytic function with noise and short wavelengths\n",
    "\n",
    "Define a relatively smooth function that we can interpolate from the coarse mesh to the fine mesh and analyse"
   ]
  },
  {
   "cell_type": "code",
   "execution_count": null,
   "id": "23baef30",
   "metadata": {},
   "outputs": [],
   "source": [
    "import numpy as np\n",
    "\n",
    "def analytic(xs, ys, k1, k2):\n",
    "     return  np.cos(k1*xs) * np.sin(k2*ys) \n",
    "    \n",
    "def analytic_noisy(xs, ys, k1, k2, noise, short):\n",
    "     return  np.cos(k1*xs) * np.sin(k2*ys) + \\\n",
    "             short * (np.cos(k1*5.0*xs) * np.sin(k2*5.0*ys)) + \\\n",
    "             noise * np.random.random(xs.shape)\n",
    "\n",
    "# def analytic_ddlon(xs, ys, k1, k2):\n",
    "#      return -k1 * np.sin(k1*xs) * np.sin(k2*ys) / np.cos(ys)\n",
    "\n",
    "# def analytic_ddlat(xs, ys, k1, k2):\n",
    "#      return k2 * np.cos(k1*xs) * np.cos(k2*ys) \n",
    "\n",
    "\n",
    "analytic_sol   = analytic(mesh.x, mesh.y, 0.1, 1.0)\n",
    "analytic_sol_n = analytic_noisy(mesh.x, mesh.y, 0.1, 1.0, 0.2, 0.0)"
   ]
  },
  {
   "cell_type": "code",
   "execution_count": null,
   "id": "6557c703",
   "metadata": {},
   "outputs": [],
   "source": [
    "%matplotlib inline\n",
    "import matplotlib.pyplot as plt\n",
    "\n",
    "def axis_mesh_field(fig, ax, mesh, field, label):\n",
    "\n",
    "    ax.axis('off')\n",
    "\n",
    "    x0 = mesh.x\n",
    "    y0 = mesh.y\n",
    "    \n",
    "    trip = ax.tripcolor(x0, y0, mesh.simplices, field, cmap=plt.cm.RdBu)\n",
    "    fig.colorbar(trip, ax=ax)\n",
    "    \n",
    "    ax.set_title(str(label))\n",
    "    return\n",
    "\n",
    "fig = plt.figure(figsize=(10, 8), facecolor=\"none\")\n",
    "ax = fig.add_subplot(111)\n",
    "axis_mesh_field(fig, ax, mesh, analytic_sol-analytic_sol_n, \"noisy solution\")"
   ]
  },
  {
   "cell_type": "markdown",
   "id": "2a13859e",
   "metadata": {},
   "source": [
    "## Smoothing operations \n",
    "\n",
    "The `Triangulation.smoothing` method directly wraps the SRFPACK smoother that smooths a surface f described \n",
    "by values on the mesh vertices to find a new surface f' (also described on the mesh vertices) by choosing nodal function values and gradients to minimize the linearized curvature of F subject to a bound on the deviation from the data values."
   ]
  },
  {
   "cell_type": "code",
   "execution_count": null,
   "id": "3138a4e2",
   "metadata": {},
   "outputs": [],
   "source": [
    "help(mesh.smoothing)"
   ]
  },
  {
   "cell_type": "code",
   "execution_count": null,
   "id": "fedb4e80",
   "metadata": {},
   "outputs": [],
   "source": [
    "stripy_smoothed,  dds, err = mesh.smoothing(analytic_sol_n, np.ones_like(analytic_sol_n), 10.0, 0.01, 0.01)\n",
    "stripy_smoothed2, dds2, err = mesh.smoothing(analytic_sol_n, np.ones_like(analytic_sol_n), 1.0, 0.1, 0.01)\n",
    "stripy_smoothed3, dds3, err = mesh.smoothing(analytic_sol_n, np.ones_like(analytic_sol_n), 20.0, 0.1, 0.01)\n",
    "\n",
    "delta_n  = analytic_sol_n - stripy_smoothed\n",
    "delta_ns = analytic_sol   - stripy_smoothed\n",
    "\n",
    "delta_n2  = analytic_sol_n - stripy_smoothed2\n",
    "delta_ns2 = analytic_sol   - stripy_smoothed2\n",
    "\n",
    "delta_n3  = analytic_sol_n - stripy_smoothed3\n",
    "delta_ns3 = analytic_sol   - stripy_smoothed3"
   ]
  },
  {
   "cell_type": "code",
   "execution_count": null,
   "id": "545c51d4",
   "metadata": {},
   "outputs": [],
   "source": [
    "stripy_smoothed, dds"
   ]
  },
  {
   "cell_type": "markdown",
   "id": "4b87c881",
   "metadata": {},
   "source": [
    "## Results of smoothing with different value of `sm`"
   ]
  },
  {
   "cell_type": "code",
   "execution_count": null,
   "id": "acfff431",
   "metadata": {},
   "outputs": [],
   "source": [
    "fig, ax = plt.subplots(2,2, figsize=(12, 10), facecolor=\"none\")\n",
    "\n",
    "axis_mesh_field(fig, ax[0,0], mesh, analytic_sol_n, label=\"original\")\n",
    "axis_mesh_field(fig, ax[0,1], mesh, stripy_smoothed, label=\"smoothed1\")\n",
    "axis_mesh_field(fig, ax[1,0], mesh, stripy_smoothed2, label=\"smoothed2\")\n",
    "axis_mesh_field(fig, ax[1,1], mesh, stripy_smoothed3, label=\"smoothed3\")\n",
    "\n",
    "plt.show()"
   ]
  },
  {
   "cell_type": "markdown",
   "id": "2a3f7fe4",
   "metadata": {},
   "source": [
    "The next example is [Ex6-Scattered-Data](./Ex6-Scattered-Data.md)"
   ]
  },
  {
   "cell_type": "code",
   "execution_count": null,
   "id": "1d22a16a",
   "metadata": {},
   "outputs": [],
   "source": [
    "fig, ax = plt.subplots(2,2, figsize=(12,10), facecolor=\"none\")\n",
    "\n",
    "axis_mesh_field(fig, ax[0,0], mesh, analytic_sol_n, label=\"original\")\n",
    "axis_mesh_field(fig, ax[0,1], mesh, dds[1], label=\"smoothed1\")\n",
    "axis_mesh_field(fig, ax[1,0], mesh, dds2[1], label=\"smoothed2\")\n",
    "axis_mesh_field(fig, ax[1,1], mesh, dds3[1], label=\"smoothed3\")\n",
    "\n",
    "plt.show()"
   ]
  },
  {
   "cell_type": "markdown",
   "id": "970aeb75",
   "metadata": {},
   "source": [
    "The next notebook is [Ex6-Scattered-Data](./Ex6-Scattered-Data.ipynb)"
   ]
  },
  {
   "cell_type": "code",
   "execution_count": null,
   "id": "fa1064da-d3f9-4593-b5a4-dda7c5f3b5a9",
   "metadata": {},
   "outputs": [],
   "source": []
  }
 ],
 "metadata": {
  "kernelspec": {
   "display_name": "Python 3 (ipykernel)",
   "language": "python",
   "name": "python3"
  },
  "language_info": {
   "codemirror_mode": {
    "name": "ipython",
    "version": 3
   },
   "file_extension": ".py",
   "mimetype": "text/x-python",
   "name": "python",
   "nbconvert_exporter": "python",
   "pygments_lexer": "ipython3",
   "version": "3.8.12"
  }
 },
 "nbformat": 4,
 "nbformat_minor": 5
}
