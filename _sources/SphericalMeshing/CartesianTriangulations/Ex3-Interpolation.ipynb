{
 "cells": [
  {
   "cell_type": "markdown",
   "id": "5087c7de",
   "metadata": {},
   "source": [
    "# Example 3 - `stripy` interpolation\n",
    "\n",
    "SRFPACK is a Fortran 77 software package that constructs a smooth interpolatory or approximating surface to data values associated with arbitrarily distributed points. It employs automatically selected tension factors to preserve shape properties of the data and avoid overshoot and undershoot associated with steep gradients.\n",
    "\n",
    "The next three examples demonstrate the interface to SRFPACK provided through `stripy`\n",
    "\n",
    "\n",
    "## Notebook contents\n",
    "\n",
    "   - [Incommensurable meshes](#Define-two-different-meshes)\n",
    "   - [Analytic function](#The-analytic-function-on-the-different-samplings)\n",
    "   - [Interpolation](#Interpolation-from-coarse-to-fine)\n",
    "   - [Interpolate to a grid](#Interpolate-to-grid)\n",
    "\n",
    "\n",
    "The next example is [Ex4-Gradients](./Ex4-Gradients.md)\n",
    "\n",
    "---"
   ]
  },
  {
   "cell_type": "markdown",
   "id": "09040e1f",
   "metadata": {},
   "source": [
    "## Define two different meshes\n",
    "\n",
    "Create a fine and a coarse mesh without common points"
   ]
  },
  {
   "cell_type": "code",
   "execution_count": null,
   "id": "aa8ad180",
   "metadata": {},
   "outputs": [],
   "source": [
    "import stripy as stripy\n",
    "\n",
    "xmin = 0.0\n",
    "xmax = 10.0\n",
    "ymin = 0.0\n",
    "ymax = 10.0\n",
    "extent = [xmin, xmax, ymin, ymax]\n",
    "\n",
    "spacingX = 1.0\n",
    "spacingY = 1.0\n",
    "\n",
    "cmesh = stripy.cartesian_meshes.elliptical_mesh(extent, spacingX, spacingY, refinement_levels=1)\n",
    "fmesh = stripy.cartesian_meshes.elliptical_mesh(extent, spacingX, spacingY, refinement_levels=3)\n",
    "\n",
    "print(\"coarse mesh points = {}\".format(cmesh.npoints))\n",
    "print(\"fine mesh points   = {}\".format(fmesh.npoints))"
   ]
  },
  {
   "cell_type": "code",
   "execution_count": null,
   "id": "deff3a1d",
   "metadata": {},
   "outputs": [],
   "source": [
    "help(cmesh.interpolate)"
   ]
  },
  {
   "cell_type": "code",
   "execution_count": null,
   "id": "dcf760f8",
   "metadata": {},
   "outputs": [],
   "source": [
    "%matplotlib inline\n",
    "\n",
    "import matplotlib.pyplot as plt\n",
    "import numpy as np\n",
    "\n",
    "\n",
    "\n",
    "def mesh_fig(mesh, meshR, name):\n",
    "\n",
    "    fig = plt.figure(figsize=(10, 10), facecolor=\"none\")\n",
    "    ax  = plt.subplot(111)\n",
    "    ax.axis('off')\n",
    "\n",
    "    generator = mesh\n",
    "    refined   = meshR\n",
    "\n",
    "    x0 = generator.x\n",
    "    y0 = generator.y\n",
    "\n",
    "    xR = refined.x\n",
    "    yR = refined.y\n",
    "    \n",
    "\n",
    "    ax.scatter(x0, y0, color=\"Red\", marker=\"o\", s=150.0)\n",
    "    ax.scatter(xR, yR, color=\"DarkBlue\", marker=\"o\", s=50.0)\n",
    "    \n",
    "    ax.triplot(xR, yR, refined.simplices, color=\"black\", linewidth=0.5)\n",
    "\n",
    "    fig.savefig(name, dpi=250, transparent=True)\n",
    "    \n",
    "    return\n",
    "\n",
    "mesh_fig(cmesh,  fmesh, \"Two grids\" )\n"
   ]
  },
  {
   "cell_type": "markdown",
   "id": "9f66df95",
   "metadata": {},
   "source": [
    "## Analytic function \n",
    "\n",
    "Define a relatively smooth function that we can interpolate from the coarse mesh to the fine mesh and analyse"
   ]
  },
  {
   "cell_type": "code",
   "execution_count": null,
   "id": "696c222a",
   "metadata": {},
   "outputs": [],
   "source": [
    "def analytic(xs, ys, k1, k2):\n",
    "     return np.cos(k1*xs) * np.sin(k2*ys)\n",
    "\n",
    "coarse_afn = analytic(cmesh.x, cmesh.y, 0.1, 1.0)\n",
    "fine_afn   = analytic(fmesh.x, fmesh.y, 0.1, 1.0)"
   ]
  },
  {
   "cell_type": "markdown",
   "id": "e0b4711e",
   "metadata": {},
   "source": [
    "## The analytic function on the different samplings\n",
    "\n",
    "It is helpful to be able to view a mesh to verify that it is an appropriate choice. Here, for example, we visualise the analytic function on the elliptical mesh."
   ]
  },
  {
   "cell_type": "code",
   "execution_count": null,
   "id": "107f500a",
   "metadata": {},
   "outputs": [],
   "source": [
    "def mesh_field_fig(mesh, field, name):\n",
    "\n",
    "    fig = plt.figure(figsize=(10, 10), facecolor=\"none\")\n",
    "    ax  = plt.subplot(111)\n",
    "    ax.axis('off')\n",
    "    \n",
    "    ax.tripcolor(mesh.x, mesh.y, mesh.simplices, field)\n",
    "\n",
    "    fig.savefig(name, dpi=250, transparent=True)\n",
    "    \n",
    "    return\n",
    "\n",
    "mesh_field_fig(cmesh, coarse_afn, \"coarse analytic\")\n",
    "mesh_field_fig(fmesh, fine_afn, \"fine analytic\")"
   ]
  },
  {
   "cell_type": "markdown",
   "id": "5d7914bf",
   "metadata": {},
   "source": [
    "## Interpolation from coarse to fine\n",
    "\n",
    "The `interpolate` method of the `Triangulation` takes arrays of x, y points and an array of data on the mesh vertices.\n",
    "It returns an array of interpolated values and a status array that states whether each value represents an interpolation, extrapolation or neither (an error condition).\n",
    "\n",
    "The interpolation can be:\n",
    "\n",
    "1. nearest-neighbour (order=0)\n",
    "2. linear (order=1)\n",
    "3. cubic spline (order=3)"
   ]
  },
  {
   "cell_type": "code",
   "execution_count": null,
   "id": "ca15d56c",
   "metadata": {},
   "outputs": [],
   "source": [
    "interp_c2f1, err = cmesh.interpolate(fmesh.x, fmesh.y, order=1, zdata=coarse_afn)\n",
    "interp_c2f3, err = cmesh.interpolate(fmesh.x, fmesh.y, order=3, zdata=coarse_afn)\n",
    "\n",
    "err_c2f1 = interp_c2f1-fine_afn\n",
    "err_c2f3 = interp_c2f3-fine_afn"
   ]
  },
  {
   "cell_type": "code",
   "execution_count": null,
   "id": "64543a5e",
   "metadata": {},
   "outputs": [],
   "source": [
    "def axis_mesh_field(ax, mesh, field, label):\n",
    "\n",
    "    ax.axis('off')\n",
    "\n",
    "    x0 = mesh.x\n",
    "    y0 = mesh.y\n",
    "    \n",
    "    im = ax.tripcolor(x0, y0, mesh.simplices, field)\n",
    "    ax.set_title(str(label))\n",
    "    fig.colorbar(im, ax=ax)\n",
    "    return\n",
    "\n",
    "    \n",
    "fig, ax = plt.subplots(2,2, figsize=(10,8))\n",
    "\n",
    "axis_mesh_field(ax[0,0], fmesh, interp_c2f1, \"interp1\")\n",
    "axis_mesh_field(ax[0,1], fmesh, interp_c2f3, \"interp3\")\n",
    "axis_mesh_field(ax[1,0], fmesh, err_c2f1, \"interp_err1\")\n",
    "axis_mesh_field(ax[1,1], fmesh, err_c2f3, \"interp_err3\")"
   ]
  },
  {
   "cell_type": "markdown",
   "id": "32318fb0",
   "metadata": {},
   "source": [
    "## Interpolate to grid\n",
    "\n",
    "Interpolating to a grid is useful for exporting maps of a region. The `interpolate_to_grid` method interpolates mesh data to a regular grid defined by the user. Values outside the convex hull are extrapolated.\n",
    "\n",
    "> `interpolate_to_grid` is a convenience function that yields identical results to interpolating over a meshed grid using the `interpolate` method."
   ]
  },
  {
   "cell_type": "code",
   "execution_count": null,
   "id": "6bd6f0df",
   "metadata": {},
   "outputs": [],
   "source": [
    "resX = resY = 100\n",
    "\n",
    "grid_x = np.linspace(xmin, xmax, resX)\n",
    "grid_y = np.linspace(ymin, ymax, resY)\n",
    "\n",
    "grid_z1 = fmesh.interpolate_to_grid(grid_x, grid_y, interp_c2f3)\n",
    "\n",
    "# compare with `interpolate` method\n",
    "grid_xcoords, grid_ycoords = np.meshgrid(grid_x, grid_y)\n",
    "\n",
    "grid_z2, ierr = fmesh.interpolate(grid_xcoords.ravel(), grid_ycoords.ravel(), interp_c2f3, order=3)\n",
    "grid_z2 = grid_z2.reshape(resY,resX)"
   ]
  },
  {
   "cell_type": "code",
   "execution_count": null,
   "id": "e663065a",
   "metadata": {},
   "outputs": [],
   "source": [
    "fig, (ax1,ax2) = plt.subplots(1,2, figsize=(10,4))\n",
    "\n",
    "im1 = ax1.imshow(grid_z1)\n",
    "im2 = ax2.imshow(grid_z2)\n",
    "\n",
    "ax1.set_title(\"grid_z1\")\n",
    "ax2.set_title(\"grid_z2\")\n",
    "\n",
    "fig.colorbar(im1, ax=ax1)\n",
    "fig.colorbar(im2, ax=ax2)\n",
    "plt.show()"
   ]
  },
  {
   "cell_type": "markdown",
   "id": "09dfdb83",
   "metadata": {},
   "source": [
    "The next example is [Ex4-Gradients](./Ex4-Gradients.ipynb)"
   ]
  },
  {
   "cell_type": "code",
   "execution_count": null,
   "id": "13bc47bf-8ed2-4ba0-a8cb-848d58345146",
   "metadata": {},
   "outputs": [],
   "source": []
  }
 ],
 "metadata": {
  "kernelspec": {
   "display_name": "Python 3 (ipykernel)",
   "language": "python",
   "name": "python3"
  },
  "language_info": {
   "codemirror_mode": {
    "name": "ipython",
    "version": 3
   },
   "file_extension": ".py",
   "mimetype": "text/x-python",
   "name": "python",
   "nbconvert_exporter": "python",
   "pygments_lexer": "ipython3",
   "version": "3.8.12"
  }
 },
 "nbformat": 4,
 "nbformat_minor": 5
}
