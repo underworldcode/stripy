{
 "cells": [
  {
   "cell_type": "markdown",
   "id": "ac025220",
   "metadata": {},
   "source": [
    "# Example 2 - `stripy` predefined meshes\n",
    "\n",
    "One common use of `stripy` is in meshing x,y coordinates and, to this end, we provide pre-defined meshes for square and elliptical triangulations. A random mesh is included as a counterpoint to the regular meshes. Each of these meshes is also a `Triangulation` object.\n",
    "\n",
    "The Cartesian mesh classes in `stripy` are:\n",
    "\n",
    "```python\n",
    "\n",
    "stripy.cartesian_meshes.square_mesh(extent, spacingX, spacingY)\n",
    "stripy.cartesian_meshes.elliptical_mesh(extent, spacingX, spacingY)\n",
    "stripy.cartesian_meshes.random_mesh(extent, number_of_points=5000)\n",
    "``` \n",
    "\n",
    "Any of the above meshes can be uniformly refined by specifying the `refinement_levels` parameter. The square and elliptical meshes come with a `random_scale` parameter that specifies the amount of random noise to be added to the mesh (`random_scale=0` by default).\n",
    "\n",
    "## Notebook contents\n",
    "\n",
    "   - [Sample meshes](#Sample-meshes)\n",
    "   - [Mesh characteristics](#Analysis-of-the-characteristics-of-the-triangulations)\n",
    "   - [Compare the predefined meshes](#Plot-and-compare-the-predefined-meshes)\n",
    "\n",
    "The next example is [Ex3-Interpolation](./Ex3-Interpolation.md)\n",
    "\n",
    "---"
   ]
  },
  {
   "cell_type": "markdown",
   "id": "38b8eeef",
   "metadata": {},
   "source": [
    "## Sample meshes\n",
    "\n",
    "We create a number of meshes from the basic types available in `stripy` with approximately similar numbers of vertices."
   ]
  },
  {
   "cell_type": "code",
   "execution_count": null,
   "id": "1462fe46",
   "metadata": {},
   "outputs": [],
   "source": [
    "import stripy\n",
    "\n",
    "## A bunch of meshes with roughly similar overall numbers of points / triangles\n",
    "xmin = 0.0\n",
    "xmax = 10.0\n",
    "ymin = 0.0\n",
    "ymax = 10.0\n",
    "extent = [xmin, xmax, ymin, ymax]\n",
    "\n",
    "spacingX = 1.0\n",
    "spacingY = 1.0\n",
    "\n",
    "nsamples = 5000\n",
    "\n",
    "str_fmt = \"{:25} {:3}\\t{:6}\"\n",
    "\n",
    "\n",
    "square0  = stripy.cartesian_meshes.square_mesh(extent, spacingX, spacingY, refinement_levels=0)\n",
    "square2  = stripy.cartesian_meshes.square_mesh(extent, spacingX, spacingY, refinement_levels=2)\n",
    "squareR  = stripy.cartesian_meshes.square_mesh(extent, spacingX, spacingY, refinement_levels=4)\n",
    "\n",
    "print(str_fmt.format('Square mesh', square0.npoints, squareR.npoints))\n",
    "\n",
    "ellip0  = stripy.cartesian_meshes.elliptical_mesh(extent, spacingX, spacingY, refinement_levels=0)\n",
    "ellip2  = stripy.cartesian_meshes.elliptical_mesh(extent, spacingX, spacingY, refinement_levels=2)\n",
    "ellipR  = stripy.cartesian_meshes.elliptical_mesh(extent, spacingX, spacingY, refinement_levels=4)\n",
    "\n",
    "print(str_fmt.format('Elliptical mesh', ellip0.npoints, ellipR.npoints))\n",
    "\n",
    "randR = stripy.cartesian_meshes.random_mesh(extent, nsamples)\n",
    "rand0 = stripy.Triangulation(randR.x[::50], randR.y[::50])\n",
    "rand2 = stripy.Triangulation(randR.x[::25], randR.y[::25])\n",
    "\n",
    "\n",
    "print(str_fmt.format('Random mesh', rand0.npoints, randR.npoints))"
   ]
  },
  {
   "cell_type": "code",
   "execution_count": null,
   "id": "052ffa91",
   "metadata": {},
   "outputs": [],
   "source": [
    "print(\"Square: {}\".format(square0.__doc__))\n",
    "\n",
    "print(\"Elliptical: {}\".format(ellip0.__doc__))\n",
    "\n",
    "print(\"Random: {}\".format(randR.__doc__))"
   ]
  },
  {
   "cell_type": "markdown",
   "id": "28e22a2a",
   "metadata": {},
   "source": [
    "### Analysis of the characteristics of the triangulations\n",
    "\n",
    "We plot a histogram of the (spherical) areas of the triangles in each of the triangulations normalised by the average area. This is one \n",
    "measure of the uniformity of each mesh."
   ]
  },
  {
   "cell_type": "code",
   "execution_count": null,
   "id": "47b56773",
   "metadata": {},
   "outputs": [],
   "source": [
    "%matplotlib inline\n",
    "import matplotlib.pyplot as plt\n",
    "import numpy as np\n",
    "\n",
    "def area_histo(mesh):\n",
    "    \n",
    "    freq, area_bin = np.histogram(mesh.areas(), bins=20, normed=True)\n",
    "    area = 0.5 * (area_bin[1:] + area_bin[:-1])\n",
    "    norm_area = area / mesh.areas().mean()\n",
    "    \n",
    "    return norm_area, 0.25 * freq*area / np.pi**2\n",
    "\n",
    "def add_plot(axis, mesh, xlim, ylim):\n",
    "    u, v = area_histo(mesh)\n",
    "    width = (u.max() - u.min()) / 30.\n",
    "    axis.bar(u, v, width=width)\n",
    "    axis.set_ylim(ylim)\n",
    "    axis.plot([1.0,1.0], [0.0,1.5], linewidth=1.0, linestyle=\"-.\", color=\"Black\")\n",
    "\n",
    "    return\n",
    "\n",
    "\n",
    "\n",
    "fig, ax = plt.subplots(1,3, figsize=(14,4))\n",
    "\n",
    "xlim=(0.75,1.5)\n",
    "ylim=(0.0,0.05)\n",
    "\n",
    "# square\n",
    "\n",
    "add_plot(ax[0], squareR, xlim, ylim)\n",
    "\n",
    "# elliptical\n",
    "\n",
    "add_plot(ax[1], ellipR, xlim, ylim)\n",
    "\n",
    "# random (this one is very different from the others ... )\n",
    "\n",
    "add_plot(ax[2], randR, xlim, ylim)\n",
    "\n",
    "\n",
    "\n",
    "fig.savefig(\"AreaDistributionsByMesh.png\", dpi=250, transparent=True)"
   ]
  },
  {
   "cell_type": "markdown",
   "id": "241791b7",
   "metadata": {},
   "source": [
    "### Plot and compare the predefined meshes"
   ]
  },
  {
   "cell_type": "code",
   "execution_count": null,
   "id": "6e57f03a",
   "metadata": {},
   "outputs": [],
   "source": [
    "def mesh_fig(mesh, meshR, name):\n",
    "\n",
    "    fig = plt.figure(figsize=(10, 10), facecolor=\"none\")\n",
    "    ax  = plt.subplot(111)\n",
    "    ax.axis('off')\n",
    "\n",
    "    generator = mesh\n",
    "    refined   = meshR\n",
    "\n",
    "    x0 = generator.x\n",
    "    y0 = generator.y\n",
    "\n",
    "    xR = refined.x\n",
    "    yR = refined.y\n",
    "    \n",
    "\n",
    "    ax.scatter(x0, y0, color=\"Red\", marker=\"o\", s=150.0)\n",
    "    ax.scatter(xR, yR, color=\"DarkBlue\", marker=\"o\", s=50.0)\n",
    "    \n",
    "    ax.triplot(xR, yR, refined.simplices, color=\"black\", linewidth=0.5)\n",
    "\n",
    "    fig.savefig(name, dpi=250, transparent=True)\n",
    "    \n",
    "    return\n",
    "\n",
    "mesh_fig(square0,  square2, \"Square\" )\n",
    "\n",
    "mesh_fig(ellip0, ellip2, \"Elliptical\" )\n",
    "\n",
    "mesh_fig(rand0, rand2, \"Random\" )"
   ]
  },
  {
   "cell_type": "markdown",
   "id": "08ab8dd0",
   "metadata": {},
   "source": [
    "The next example is [Ex3-Interpolation](./Ex3-Interpolation.ipynb)"
   ]
  },
  {
   "cell_type": "code",
   "execution_count": null,
   "id": "8e679d49-b06c-45f1-970c-be3a025ae20f",
   "metadata": {},
   "outputs": [],
   "source": []
  }
 ],
 "metadata": {
  "kernelspec": {
   "display_name": "Python 3 (ipykernel)",
   "language": "python",
   "name": "python3"
  },
  "language_info": {
   "codemirror_mode": {
    "name": "ipython",
    "version": 3
   },
   "file_extension": ".py",
   "mimetype": "text/x-python",
   "name": "python",
   "nbconvert_exporter": "python",
   "pygments_lexer": "ipython3",
   "version": "3.8.12"
  }
 },
 "nbformat": 4,
 "nbformat_minor": 5
}
