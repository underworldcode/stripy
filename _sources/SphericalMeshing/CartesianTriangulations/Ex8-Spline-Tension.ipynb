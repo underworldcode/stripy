{
 "cells": [
  {
   "cell_type": "markdown",
   "id": "74c03b9f",
   "metadata": {},
   "source": [
    "# Example 8 - Spline Tension\n",
    "\n",
    "Apply spline tension to interpolaton, gradient, derivative, or smoothing routines to reduce the occurance of undershoot / overshoot inconsistencies in the solution.\n",
    "\n",
    "The values to determine the degree of tension is stored in `sigma`. Using the routine `get_spline_tension_factors` will determine the smallest tension factor such that the spline preserves the local shape properties (monotonicity and convexity) of the data. If `sigma` is zero everywhere, then no tension is active.\n",
    "\n",
    "We walk through a number of routines that we have explored in previous notebooks, but in this case demonstrating the use of tensioned splines.\n",
    "\n",
    "## Contents\n",
    "\n",
    "- [Smoothing with tension](#Smoothing-with-tension)\n",
    "- [Interpolation with tension](#Interpolation-with-tension)\n",
    "- [Gradients with tension](#Gradients-with-tension)"
   ]
  },
  {
   "cell_type": "code",
   "execution_count": null,
   "id": "960d8661",
   "metadata": {},
   "outputs": [],
   "source": [
    "import stripy as stripy\n",
    "import numpy as np\n",
    "import matplotlib.pyplot as plt\n",
    "%matplotlib inline"
   ]
  },
  {
   "cell_type": "code",
   "execution_count": null,
   "id": "d6ebf93a",
   "metadata": {},
   "outputs": [],
   "source": [
    "xmin = 0.0\n",
    "xmax = 10.0\n",
    "ymin = 0.0\n",
    "ymax = 10.0\n",
    "extent = [xmin, xmax, ymin, ymax]\n",
    "\n",
    "spacingX = 0.5\n",
    "spacingY = 0.5\n",
    "\n",
    "mesh = stripy.cartesian_meshes.elliptical_mesh(extent, spacingX, spacingY, refinement_levels=3)"
   ]
  },
  {
   "cell_type": "code",
   "execution_count": null,
   "id": "12357357",
   "metadata": {},
   "outputs": [],
   "source": [
    "def analytic(lons, lats, k1, k2):\n",
    "     return  np.cos(k1*lons) * np.sin(k2*lats) \n",
    "\n",
    "def analytic_noisy(lons, lats, k1, k2, noise, short):\n",
    "     return  np.cos(k1*lons) * np.sin(k2*lats) + short * (np.cos(k1*5.0*lons) * np.sin(k2*5.0*lats)) +  noise * np.random.random(lons.shape)\n",
    "\n",
    "data   = analytic(mesh.x, mesh.y, 1.0, 1.0)\n",
    "data_n = analytic_noisy(mesh.x, mesh.y, 1.0, 1.0, 0.1, 0.0)"
   ]
  },
  {
   "cell_type": "code",
   "execution_count": null,
   "id": "d4a8d156",
   "metadata": {},
   "outputs": [],
   "source": [
    "# get tension factors from the data\n",
    "sigma   = mesh.get_spline_tension_factors(data, tol=1e-6)\n",
    "sigma_n = mesh.get_spline_tension_factors(data_n, tol=1e-6)\n",
    "\n",
    "assert sigma.any(), \"if this raises an error, then no tension is active\"\n",
    "assert sigma_n.any(), \"if this raises an error, then no tension is active\""
   ]
  },
  {
   "cell_type": "markdown",
   "id": "0d20bf99",
   "metadata": {},
   "source": [
    "## Smoothing with tension\n",
    "\n",
    "Tension is applied simply by supplying `sigma`. It's effect is most noticible near the poles where there are edge artefacts in the solution."
   ]
  },
  {
   "cell_type": "code",
   "execution_count": null,
   "id": "fa02c84a",
   "metadata": {},
   "outputs": [],
   "source": [
    "stripy_smoothed,  dds, err = mesh.smoothing(data, np.ones_like(data_n), 10.0, 0.1, 0.01)\n",
    "stripy_smoothed2, dds, err = mesh.smoothing(data, np.ones_like(data_n), 10.0, 0.1, 0.01, sigma=sigma)"
   ]
  },
  {
   "cell_type": "code",
   "execution_count": null,
   "id": "a0e8108a",
   "metadata": {},
   "outputs": [],
   "source": [
    "def axes_mesh_field(fig, ax, mesh, field, label):\n",
    "    ax.axis('off')\n",
    "    ax.set_title(str(label))\n",
    "    im = ax.tripcolor(mesh.x, mesh.y, mesh.simplices, field, cmap=\"PiYG\", label=label)\n",
    "    fig.colorbar(im, ax=ax)\n",
    "\n",
    "\n",
    "fig, axes = plt.subplots(1,3, figsize=(16,4))\n",
    "\n",
    "axes_mesh_field(fig, axes[0], mesh, stripy_smoothed, \"no tension\")\n",
    "axes_mesh_field(fig, axes[1], mesh, stripy_smoothed2, \"spline tension\")\n",
    "axes_mesh_field(fig, axes[2], mesh, stripy_smoothed - stripy_smoothed2, \"difference\")"
   ]
  },
  {
   "cell_type": "markdown",
   "id": "604aeab4",
   "metadata": {},
   "source": [
    "## Interpolation with tension\n",
    "\n",
    "Only applies to cubic interpolation. The effect of supplying a non-negative `sigma` is to produce a _more linear_ interpolation. For regions that lie outside the hull, cubic extrapolation produces wild oscillations in the solution which can be mitigated with spline tension."
   ]
  },
  {
   "cell_type": "code",
   "execution_count": null,
   "id": "efaaf251",
   "metadata": {},
   "outputs": [],
   "source": [
    "# set up a discontinuous mesh and offset\n",
    "\n",
    "mask_points = mesh.x < 5.0\n",
    "cmesh = stripy.Triangulation(mesh.x[mask_points]+5, mesh.y[mask_points]+5)\n",
    "\n",
    "cdata   = analytic(cmesh.x, cmesh.y, 1.0, 1.0)\n",
    "csigma  = cmesh.get_spline_tension_factors(cdata, tol=1e-6)"
   ]
  },
  {
   "cell_type": "code",
   "execution_count": null,
   "id": "e026e2b5",
   "metadata": {},
   "outputs": [],
   "source": [
    "# interpolate back to original mesh\n",
    "\n",
    "grid_z1, ierr = cmesh.interpolate_cubic(mesh.x, mesh.y, cdata) # no tension\n",
    "grid_z2, ierr = cmesh.interpolate_cubic(mesh.x, mesh.y, cdata, sigma=csigma) # tension"
   ]
  },
  {
   "cell_type": "code",
   "execution_count": null,
   "id": "2a2d1bdb",
   "metadata": {},
   "outputs": [],
   "source": [
    "fig, axes = plt.subplots(1,3, figsize=(16,4))\n",
    "\n",
    "axes_mesh_field(fig, axes[0], mesh, grid_z1, \"no tension\")\n",
    "axes_mesh_field(fig, axes[1], mesh, grid_z2, \"spline tension\")\n",
    "axes_mesh_field(fig, axes[2], mesh, grid_z1 - grid_z2, \"difference\")"
   ]
  },
  {
   "cell_type": "markdown",
   "id": "9929d91c",
   "metadata": {},
   "source": [
    "## Gradients with tension\n",
    "\n",
    "Pass `sigma` to the following routines that involve derivatives:\n",
    "\n",
    "- `gradient_lonlat`\n",
    "- `gradient_xyz`\n",
    "- `derivatives_lonlat`\n",
    "\n",
    "Again, the largest difference is visible at the poles."
   ]
  },
  {
   "cell_type": "code",
   "execution_count": null,
   "id": "4796263d",
   "metadata": {},
   "outputs": [],
   "source": [
    "dx1, dy1 = mesh.gradient(data, nit=5, tol=1e-6) # no tension\n",
    "dx2, dy2 = mesh.gradient(data, nit=5, tol=1e-6, sigma=sigma) # tension"
   ]
  },
  {
   "cell_type": "code",
   "execution_count": null,
   "id": "09ed0bb4",
   "metadata": {},
   "outputs": [],
   "source": [
    "fig, axes = plt.subplots(2,3, figsize=(16,9))\n",
    "\n",
    "axes_mesh_field(fig, axes[0,0], mesh, dx1, \"x derivative no tension\")\n",
    "axes_mesh_field(fig, axes[0,1], mesh, dx2, \"x derivative spline tension\")\n",
    "axes_mesh_field(fig, axes[0,2], mesh, dx1 - dx2, \"x derivative difference\")\n",
    "\n",
    "axes_mesh_field(fig, axes[1,0], mesh, dy1, \"y derivative no tension\")\n",
    "axes_mesh_field(fig, axes[1,1], mesh, dy2, \"y derivative spline tension\")\n",
    "axes_mesh_field(fig, axes[1,2], mesh, dy1 - dy2, \"x derivative difference\")"
   ]
  },
  {
   "cell_type": "markdown",
   "id": "05c24466",
   "metadata": {},
   "source": [
    "The next notebook is [Ex9-Voronoi-Diagram](Ex9-Voronoi-Diagram.ipynb)"
   ]
  },
  {
   "cell_type": "code",
   "execution_count": null,
   "id": "d468fbdf-a79b-4583-9ae2-6a9a472b4a2d",
   "metadata": {},
   "outputs": [],
   "source": []
  }
 ],
 "metadata": {
  "kernelspec": {
   "display_name": "Python 3 (ipykernel)",
   "language": "python",
   "name": "python3"
  },
  "language_info": {
   "codemirror_mode": {
    "name": "ipython",
    "version": 3
   },
   "file_extension": ".py",
   "mimetype": "text/x-python",
   "name": "python",
   "nbconvert_exporter": "python",
   "pygments_lexer": "ipython3",
   "version": "3.8.12"
  }
 },
 "nbformat": 4,
 "nbformat_minor": 5
}
