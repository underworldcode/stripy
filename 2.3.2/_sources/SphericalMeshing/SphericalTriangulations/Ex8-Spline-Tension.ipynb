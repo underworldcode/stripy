{
 "cells": [
  {
   "cell_type": "markdown",
   "id": "0cc9ad85",
   "metadata": {},
   "source": [
    "# Example 8 - Spline Tension\n",
    "\n",
    "Apply spline tension to interpolaton, gradient, derivative, or smoothing routines to reduce the occurance of undershoot / overshoot inconsistencies in the solution.\n",
    "\n",
    "The values to determine the degree of tension is stored in `sigma`. Using the routine `get_spline_tension_factors` will determine the smallest tension factor such that the spline preserves the local shape properties (monotonicity and convexity) of the data. If `sigma` is zero everywhere, then no tension is active.\n",
    "\n",
    "We walk through a number of routines that we have explored in previous notebooks, but in this case demonstrating the use of tensioned splines.\n",
    "\n",
    "## Contents\n",
    "\n",
    "- [Smoothing with tension](#Smoothing-with-tension)\n",
    "- [Interpolation with tension](#Interpolation-with-tension)\n",
    "- [Gradients with tension](#Gradients-with-tension)"
   ]
  },
  {
   "cell_type": "code",
   "execution_count": null,
   "id": "a8468dfc",
   "metadata": {},
   "outputs": [],
   "source": [
    "import stripy as stripy\n",
    "import numpy as np\n",
    "import matplotlib.pyplot as plt\n",
    "import cartopy.crs as ccrs\n",
    "%matplotlib inline"
   ]
  },
  {
   "cell_type": "code",
   "execution_count": null,
   "id": "ea747d68",
   "metadata": {},
   "outputs": [],
   "source": [
    "mesh = stripy.spherical_meshes.icosahedral_mesh(refinement_levels=4)"
   ]
  },
  {
   "cell_type": "code",
   "execution_count": null,
   "id": "f7fe9711",
   "metadata": {},
   "outputs": [],
   "source": [
    "def analytic(lons, lats, k1, k2):\n",
    "     return  np.cos(k1*lons) * np.sin(k2*lats) \n",
    "\n",
    "def analytic_noisy(lons, lats, k1, k2, noise, short):\n",
    "     return  np.cos(k1*lons) * np.sin(k2*lats) + short * (np.cos(k1*5.0*lons) * np.sin(k2*5.0*lats)) +  noise * np.random.random(lons.shape)\n",
    "\n",
    "data   = analytic(mesh.lons, mesh.lats, 5.0, 2.0)\n",
    "data_n = analytic_noisy(mesh.lons, mesh.lats, 5.0, 2.0, 0.1, 0.0)"
   ]
  },
  {
   "cell_type": "code",
   "execution_count": null,
   "id": "7b7e0a8b",
   "metadata": {},
   "outputs": [],
   "source": [
    "# get tension factors from the data\n",
    "sigma   = mesh.get_spline_tension_factors(data, tol=1e-6)\n",
    "sigma_n = mesh.get_spline_tension_factors(data_n, tol=1e-6)"
   ]
  },
  {
   "cell_type": "markdown",
   "id": "15c5cb89",
   "metadata": {},
   "source": [
    "## Smoothing with tension\n",
    "\n",
    "Tension is applied simply by supplying `sigma`. It's effect is most noticible near the poles where there are edge artefacts in the solution."
   ]
  },
  {
   "cell_type": "code",
   "execution_count": null,
   "id": "7955b7c0",
   "metadata": {},
   "outputs": [],
   "source": [
    "stripy_smoothed,  dds, err = mesh.smoothing(data, np.ones_like(data_n), 10.0, 0.1, 0.01)\n",
    "stripy_smoothed2, dds, err = mesh.smoothing(data, np.ones_like(data_n), 10.0, 0.1, 0.01, sigma=sigma)"
   ]
  },
  {
   "cell_type": "code",
   "execution_count": null,
   "id": "e1a97c4e",
   "metadata": {},
   "outputs": [],
   "source": [
    "import k3d\n",
    "\n",
    "plot = k3d.plot(camera_auto_fit=False, grid_visible=False, \n",
    "                menu_visibility=True, axes_helper=False )\n",
    "\n",
    "indices = mesh.simplices.astype(np.uint32)\n",
    "points = np.column_stack(mesh.points.T).astype(np.float32)\n",
    "\n",
    "mesh_viewer = k3d.mesh(points, indices, wireframe=False, attribute=data_n,\n",
    "                   color_map=k3d.colormaps.paraview_color_maps.Cool_to_Warm, \n",
    "                   name=\"splines\",\n",
    "                   flat_shading=False, opacity=1.0  )\n",
    "\n",
    "\n",
    "plot   += mesh_viewer\n",
    "plot.display()\n",
    "\n",
    "## ## ## \n",
    "\n",
    "from ipywidgets import interact, interactive\n",
    "import ipywidgets as widgets\n",
    "\n",
    "choices = { \"original\": data_n,\n",
    "             \"smoothed\": stripy_smoothed, \n",
    "             \"smooth with tension\": stripy_smoothed2, \n",
    "             \"delta\": stripy_smoothed - stripy_smoothed2  }\n",
    "\n",
    "@interact(choice=choices.keys())\n",
    "def chooser(choice):\n",
    "    mesh_viewer.attribute = choices[choice].astype(np.float32)\n",
    "    range = choices[choice].max() * 0.2\n",
    "    mesh_viewer.color_range = [0, range]\n",
    "    return \n"
   ]
  },
  {
   "cell_type": "markdown",
   "id": "2de45926",
   "metadata": {},
   "source": [
    "## Interpolation with tension\n",
    "\n",
    "Only applies to cubic interpolation. The effect of supplying a non-negative `sigma` is to produce a _more linear_ interpolation. For regions that lie outside the hull, cubic extrapolation produces wild oscillations in the solution which can be mitigated with spline tension."
   ]
  },
  {
   "cell_type": "code",
   "execution_count": null,
   "id": "b9497096",
   "metadata": {},
   "outputs": [],
   "source": [
    "# set up a discontinuous mesh\n",
    "\n",
    "mask_points = mesh.lats < np.pi/3\n",
    "cmesh = stripy.sTriangulation(mesh.lons[mask_points], mesh.lats[mask_points])\n",
    "\n",
    "cdata   = analytic(cmesh.lons, cmesh.lats, 5.0, 2.0)\n",
    "csigma  = cmesh.get_spline_tension_factors(cdata, tol=1e-6)"
   ]
  },
  {
   "cell_type": "code",
   "execution_count": null,
   "id": "5a0f8abf",
   "metadata": {},
   "outputs": [],
   "source": [
    "grid_z1, ierr = cmesh.interpolate_cubic(mesh.lons, mesh.lats, cdata) # no tension\n",
    "grid_z2, ierr = cmesh.interpolate_cubic(mesh.lons, mesh.lats, cdata, sigma=csigma) # tension"
   ]
  },
  {
   "cell_type": "code",
   "execution_count": null,
   "id": "d075f765",
   "metadata": {},
   "outputs": [],
   "source": [
    "import k3d\n",
    "\n",
    "plot = k3d.plot(camera_auto_fit=False, grid_visible=False, \n",
    "                menu_visibility=True, axes_helper=False )\n",
    "\n",
    "indices = mesh.simplices.astype(np.uint32)\n",
    "points = np.column_stack(mesh.points.T).astype(np.float32)\n",
    "\n",
    "mesh_viewer = k3d.mesh(points, indices, wireframe=False, attribute=data_n,\n",
    "                   color_map=k3d.colormaps.paraview_color_maps.Cool_to_Warm, \n",
    "                   name=\"splines\",\n",
    "                   flat_shading=False, opacity=1.0  )\n",
    "\n",
    "\n",
    "plot += mesh_viewer\n",
    "#plot += background\n",
    "plot.display()\n",
    "\n",
    "## ## ## \n",
    "\n",
    "from ipywidgets import interact, interactive\n",
    "import ipywidgets as widgets\n",
    "\n",
    "choices = {  \n",
    "             \"cubic\": grid_z1, \n",
    "             \"cubic with tension\": grid_z2, \n",
    "             \"delta\": grid_z1 - grid_z2  }\n",
    "\n",
    "@interact(choice=choices.keys())\n",
    "def chooser(choice):\n",
    "    mesh_viewer.attribute = choices[choice].astype(np.float32)\n",
    "    range = choices[choice].max() * 0.2\n",
    "    mesh_viewer.color_range = [-range, range]\n",
    "    return \n",
    "\n"
   ]
  },
  {
   "cell_type": "markdown",
   "id": "ef2ce492",
   "metadata": {},
   "source": [
    "## Gradients with tension\n",
    "\n",
    "Pass `sigma` to the following routines that involve derivatives:\n",
    "\n",
    "- `gradient_lonlat`\n",
    "- `gradient_xyz`\n",
    "- `derivatives_lonlat`\n",
    "\n",
    "Again, the largest difference is visible at the poles."
   ]
  },
  {
   "cell_type": "code",
   "execution_count": null,
   "id": "1fe34c91",
   "metadata": {},
   "outputs": [],
   "source": [
    "dlon1, dlat1 = mesh.gradient_lonlat(data, nit=5, tol=1e-6) # no tension\n",
    "dlon2, dlat2 = mesh.gradient_lonlat(data, nit=5, tol=1e-6, sigma=sigma) # tension"
   ]
  },
  {
   "cell_type": "code",
   "execution_count": null,
   "id": "f8573f75",
   "metadata": {},
   "outputs": [],
   "source": [
    "import k3d\n",
    "\n",
    "plot = k3d.plot(camera_auto_fit=False, grid_visible=False, \n",
    "                menu_visibility=True, axes_helper=False )\n",
    "\n",
    "indices = mesh.simplices.astype(np.uint32)\n",
    "points = np.column_stack(mesh.points.T).astype(np.float32)\n",
    "\n",
    "mesh_viewer = k3d.mesh(points, indices, wireframe=False, attribute=data_n,\n",
    "                   color_map=k3d.colormaps.paraview_color_maps.Cool_to_Warm, \n",
    "                   name=\"splines\",\n",
    "                   flat_shading=False, opacity=1.0  )\n",
    "\n",
    "\n",
    "plot += mesh_viewer\n",
    "plot.display()\n",
    "\n",
    "## ## ## \n",
    "\n",
    "from ipywidgets import interact, interactive\n",
    "import ipywidgets as widgets\n",
    "\n",
    "choices = { \"dlon\": dlon1,\n",
    "            \"dlat\": dlat1,\n",
    "            \"dlon + tension\": dlon2,\n",
    "            \"dlat + tension\": dlat2,\n",
    "            \"dlon delta\": dlon1 - dlon2,\n",
    "            \"dlat delta\": dlat1 - dlat2 }\n",
    "\n",
    "\n",
    "@interact(choice=choices.keys())\n",
    "def chooser(choice):\n",
    "    mesh_viewer.attribute = choices[choice].astype(np.float32)\n",
    "    range = choices[choice].max() * 0.2\n",
    "    mesh_viewer.color_range = [-range, range]\n",
    "    return \n",
    "\n"
   ]
  },
  {
   "cell_type": "markdown",
   "id": "34afa7cb",
   "metadata": {},
   "source": [
    "The next notebook is [Ex9-Voronoi-Diagram](Ex9-Voronoi-Diagram.ipynb)"
   ]
  },
  {
   "cell_type": "code",
   "execution_count": null,
   "id": "38134284-fc61-4889-80bd-a6521142fa76",
   "metadata": {},
   "outputs": [],
   "source": []
  }
 ],
 "metadata": {
  "kernelspec": {
   "display_name": "Python 3 (ipykernel)",
   "language": "python",
   "name": "python3"
  },
  "language_info": {
   "codemirror_mode": {
    "name": "ipython",
    "version": 3
   },
   "file_extension": ".py",
   "mimetype": "text/x-python",
   "name": "python",
   "nbconvert_exporter": "python",
   "pygments_lexer": "ipython3",
   "version": "3.8.12"
  }
 },
 "nbformat": 4,
 "nbformat_minor": 5
}
